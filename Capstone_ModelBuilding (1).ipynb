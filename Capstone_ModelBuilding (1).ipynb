{
 "cells": [
  {
   "cell_type": "code",
   "execution_count": 1,
   "id": "0e42221d-5564-43de-8393-9c5d4c559163",
   "metadata": {},
   "outputs": [],
   "source": [
    "import numpy as np\n",
    "import pandas as pd\n",
    "import matplotlib.pyplot as plt\n",
    "import re\n",
    "from sklearn.neighbors import KNeighborsClassifier\n",
    "from sklearn.tree import DecisionTreeClassifier\n",
    "from sklearn.linear_model import LogisticRegression\n",
    "from sklearn.metrics import classification_report\n",
    "from sklearn.metrics import confusion_matrix, ConfusionMatrixDisplay\n",
    "import statsmodels.api as sm\n",
    "from lightgbm import LGBMClassifier\n",
    "import warnings\n",
    "warnings.filterwarnings(\"ignore\")"
   ]
  },
  {
   "cell_type": "code",
   "execution_count": 2,
   "id": "6b53a40b-dfd4-4438-9b75-38e8072868c5",
   "metadata": {},
   "outputs": [],
   "source": [
    "def DisplayConfusionMatrix(actual, prediction):\n",
    "    cm = confusion_matrix(actual, prediction)\n",
    "    cm_dspl = ConfusionMatrixDisplay(confusion_matrix=cm)\n",
    "    cm_dspl.plot(cmap='YlGnBu')\n",
    "    plt.title('Confusion Matrix')\n",
    "    plt.show()"
   ]
  },
  {
   "cell_type": "code",
   "execution_count": 3,
   "id": "8e5c332a-f924-4dc7-a9fc-b919ff6b89d5",
   "metadata": {},
   "outputs": [
    {
     "data": {
      "text/plain": [
       "((140000, 166), (60000, 166), (140000, 1), (60000, 1))"
      ]
     },
     "execution_count": 3,
     "metadata": {},
     "output_type": "execute_result"
    }
   ],
   "source": [
    "xtrain = pd.read_csv('xtrain.csv')\n",
    "xtest = pd.read_csv('xtest.csv')\n",
    "ytrain = pd.read_csv('ytrain.csv')\n",
    "ytest = pd.read_csv('ytest.csv')\n",
    "xtrain.shape, xtest.shape,  ytrain.shape, ytest.shape"
   ]
  },
  {
   "cell_type": "code",
   "execution_count": 4,
   "id": "65362ecd-283f-4021-ae86-f3377f7e848e",
   "metadata": {},
   "outputs": [],
   "source": [
    "xtrain = xtrain.rename(columns=lambda x: re.sub('[^A-Za-z0-9_]+', '', x))\n",
    "xtest = xtest.rename(columns=lambda x: re.sub('[^A-Za-z0-9_]+', '', x))\n",
    "y_train = np.array(ytrain.DEP_DEL15)\n",
    "y_test = np.array(ytest.DEP_DEL15)"
   ]
  },
  {
   "cell_type": "code",
   "execution_count": 5,
   "id": "c4b6afce-66e4-42cc-8ba8-25fd6daea5e1",
   "metadata": {},
   "outputs": [],
   "source": [
    "lr = LogisticRegression(max_iter=1000)\n",
    "model = lr.fit(xtrain, y_train)\n",
    "y_pred = model.predict(xtest)"
   ]
  },
  {
   "cell_type": "code",
   "execution_count": 6,
   "id": "4e6fe58f-3eb0-454d-b08b-06eee06838d1",
   "metadata": {},
   "outputs": [
    {
     "name": "stdout",
     "output_type": "stream",
     "text": [
      "Accuracy 0.8177166666666666\n"
     ]
    }
   ],
   "source": [
    "print('Accuracy', model.score(xtest, y_test))"
   ]
  },
  {
   "cell_type": "code",
   "execution_count": 7,
   "id": "14ce8064-885f-44af-8ae7-ebad3b723688",
   "metadata": {},
   "outputs": [
    {
     "name": "stdout",
     "output_type": "stream",
     "text": [
      "              precision    recall  f1-score   support\n",
      "\n",
      "           0       0.82      1.00      0.90     49063\n",
      "           1       0.00      0.00      0.00     10937\n",
      "\n",
      "    accuracy                           0.82     60000\n",
      "   macro avg       0.41      0.50      0.45     60000\n",
      "weighted avg       0.67      0.82      0.74     60000\n",
      "\n"
     ]
    }
   ],
   "source": [
    "print(classification_report(y_test, y_pred))"
   ]
  },
  {
   "cell_type": "code",
   "execution_count": 8,
   "id": "75fcd6bf-0272-40f2-ba14-689b0f731aa6",
   "metadata": {},
   "outputs": [
    {
     "data": {
      "image/png": "[encoded data removed]",
      "text/plain": [
       "<Figure size 432x288 with 2 Axes>"
      ]
     },
     "metadata": {
      "needs_background": "light"
     },
     "output_type": "display_data"
    }
   ],
   "source": [
    "DisplayConfusionMatrix(y_test, y_pred)"
   ]
  },
  {
   "cell_type": "code",
   "execution_count": 9,
   "id": "cf37b7fc-4710-4af3-b270-e6f8b26528c1",
   "metadata": {},
   "outputs": [],
   "source": [
    "kn = KNeighborsClassifier()\n",
    "model = kn.fit(xtrain, y_train)\n",
    "y_pred = model.predict(xtest)"
   ]
  },
  {
   "cell_type": "code",
   "execution_count": 10,
   "id": "eaf5831c-49f3-4189-becb-2778a4549b70",
   "metadata": {},
   "outputs": [
    {
     "name": "stdout",
     "output_type": "stream",
     "text": [
      "Accuracy 0.78955\n"
     ]
    }
   ],
   "source": [
    "print('Accuracy', model.score(xtest, y_test))"
   ]
  },
  {
   "cell_type": "code",
   "execution_count": 11,
   "id": "567edcda-eb8d-428e-8792-49d5b2599eee",
   "metadata": {},
   "outputs": [
    {
     "name": "stdout",
     "output_type": "stream",
     "text": [
      "              precision    recall  f1-score   support\n",
      "\n",
      "           0       0.82      0.95      0.88     49063\n",
      "           1       0.19      0.05      0.08     10937\n",
      "\n",
      "    accuracy                           0.79     60000\n",
      "   macro avg       0.50      0.50      0.48     60000\n",
      "weighted avg       0.70      0.79      0.73     60000\n",
      "\n"
     ]
    }
   ],
   "source": [
    "print(classification_report(y_test, y_pred))"
   ]
  },
  {
   "cell_type": "code",
   "execution_count": 12,
   "id": "fb0d1d28-97e8-470c-bc08-822afccaaa26",
   "metadata": {},
   "outputs": [
    {
     "data": {
      "image/png": "[encoded data removed]",
      "text/plain": [
       "<Figure size 432x288 with 2 Axes>"
      ]
     },
     "metadata": {
      "needs_background": "light"
     },
     "output_type": "display_data"
    }
   ],
   "source": [
    "DisplayConfusionMatrix(y_test, y_pred)"
   ]
  },
  {
   "cell_type": "code",
   "execution_count": 13,
   "id": "748e3549-8a99-44cb-9aed-28c0ccc850f4",
   "metadata": {},
   "outputs": [],
   "source": [
    "dt = DecisionTreeClassifier()\n",
    "model = dt.fit(xtrain, y_train)\n",
    "y_pred = model.predict(xtest)"
   ]
  },
  {
   "cell_type": "code",
   "execution_count": 14,
   "id": "cd0a6bbd-965e-4f1f-8702-bea223fc1aa4",
   "metadata": {},
   "outputs": [
    {
     "name": "stdout",
     "output_type": "stream",
     "text": [
      "Accuracy 0.6686833333333333\n"
     ]
    }
   ],
   "source": [
    "print('Accuracy', model.score(xtest, ytest))"
   ]
  },
  {
   "cell_type": "code",
   "execution_count": 15,
   "id": "b64181e3-e03a-45d4-bc4c-e55011b586aa",
   "metadata": {},
   "outputs": [
    {
     "name": "stdout",
     "output_type": "stream",
     "text": [
      "              precision    recall  f1-score   support\n",
      "\n",
      "           0       0.82      0.77      0.79     49063\n",
      "           1       0.18      0.23      0.20     10937\n",
      "\n",
      "    accuracy                           0.67     60000\n",
      "   macro avg       0.50      0.50      0.50     60000\n",
      "weighted avg       0.70      0.67      0.68     60000\n",
      "\n"
     ]
    }
   ],
   "source": [
    "print(classification_report(y_test, y_pred))"
   ]
  },
  {
   "cell_type": "code",
   "execution_count": 16,
   "id": "61def8ce-1ebe-4963-a352-947f29cea0d3",
   "metadata": {},
   "outputs": [
    {
     "data": {
      "image/png": "[encoded data removed]",
      "text/plain": [
       "<Figure size 432x288 with 2 Axes>"
      ]
     },
     "metadata": {
      "needs_background": "light"
     },
     "output_type": "display_data"
    }
   ],
   "source": [
    "DisplayConfusionMatrix(y_test, y_pred)"
   ]
  },
  {
   "cell_type": "code",
   "execution_count": 17,
   "id": "a1602d2e-d013-4637-b69a-62e2de31b735",
   "metadata": {},
   "outputs": [],
   "source": [
    "lgbm = LGBMClassifier()\n",
    "model2 = lgbm.fit(xtrain, y_train)\n",
    "y_pred = model2.predict(xtest)"
   ]
  },
  {
   "cell_type": "code",
   "execution_count": 18,
   "id": "cbae9bdd-9207-4653-9a59-6cb8d66c2ff8",
   "metadata": {},
   "outputs": [
    {
     "name": "stdout",
     "output_type": "stream",
     "text": [
      "Accuracy 0.8177166666666666\n"
     ]
    }
   ],
   "source": [
    "print('Accuracy', model2.score(xtest, y_test))"
   ]
  },
  {
   "cell_type": "code",
   "execution_count": 19,
   "id": "f8aa171f-ae93-4d73-a150-1b48431b102c",
   "metadata": {},
   "outputs": [
    {
     "name": "stdout",
     "output_type": "stream",
     "text": [
      "              precision    recall  f1-score   support\n",
      "\n",
      "           0       0.82      1.00      0.90     49063\n",
      "           1       0.00      0.00      0.00     10937\n",
      "\n",
      "    accuracy                           0.82     60000\n",
      "   macro avg       0.41      0.50      0.45     60000\n",
      "weighted avg       0.67      0.82      0.74     60000\n",
      "\n"
     ]
    }
   ],
   "source": [
    "print(classification_report(y_test, y_pred))"
   ]
  },
  {
   "cell_type": "code",
   "execution_count": 20,
   "id": "6bb285bb-ee81-4002-8ed9-532eef7ef172",
   "metadata": {},
   "outputs": [
    {
     "data": {
      "image/png": "[encoded data removed]",
      "text/plain": [
       "<Figure size 432x288 with 2 Axes>"
      ]
     },
     "metadata": {
      "needs_background": "light"
     },
     "output_type": "display_data"
    }
   ],
   "source": [
    "DisplayConfusionMatrix(y_test, y_pred)"
   ]
  },
  {
   "cell_type": "code",
   "execution_count": 21,
   "id": "6583abfd-6237-4973-bddb-a92e1c9a5b15",
   "metadata": {
    "tags": []
   },
   "outputs": [
    {
     "name": "stdout",
     "output_type": "stream",
     "text": [
      "Warning: Maximum number of iterations has been exceeded.\n",
      "         Current function value: 0.476161\n",
      "         Iterations: 35\n"
     ]
    },
    {
     "data": {
      "text/html": [
       "<table class=\"simpletable\">\n",
       "<caption>Logit Regression Results</caption>\n",
       "<tr>\n",
       "  <th>Dep. Variable:</th>           <td>y</td>        <th>  No. Observations:  </th>  <td>140000</td> \n",
       "</tr>\n",
       "<tr>\n",
       "  <th>Model:</th>                 <td>Logit</td>      <th>  Df Residuals:      </th>  <td>139833</td> \n",
       "</tr>\n",
       "<tr>\n",
       "  <th>Method:</th>                 <td>MLE</td>       <th>  Df Model:          </th>  <td>   166</td> \n",
       "</tr>\n",
       "<tr>\n",
       "  <th>Date:</th>            <td>Wed, 06 Jul 2022</td> <th>  Pseudo R-squ.:     </th> <td>0.001134</td>\n",
       "</tr>\n",
       "<tr>\n",
       "  <th>Time:</th>                <td>19:41:49</td>     <th>  Log-Likelihood:    </th> <td> -66663.</td>\n",
       "</tr>\n",
       "<tr>\n",
       "  <th>converged:</th>             <td>False</td>      <th>  LL-Null:           </th> <td> -66738.</td>\n",
       "</tr>\n",
       "<tr>\n",
       "  <th>Covariance Type:</th>     <td>nonrobust</td>    <th>  LLR p-value:       </th>  <td>0.7854</td> \n",
       "</tr>\n",
       "</table>\n",
       "<table class=\"simpletable\">\n",
       "<tr>\n",
       "                              <td></td>                                 <th>coef</th>     <th>std err</th>      <th>z</th>      <th>P>|z|</th>  <th>[0.025</th>    <th>0.975]</th>  \n",
       "</tr>\n",
       "<tr>\n",
       "  <th>const</th>                                                     <td>   -1.6330</td> <td>    0.197</td> <td>   -8.291</td> <td> 0.000</td> <td>   -2.019</td> <td>   -1.247</td>\n",
       "</tr>\n",
       "<tr>\n",
       "  <th>AIRLINE_FLIGHTS_MONTH</th>                                     <td>    0.0049</td> <td>    0.015</td> <td>    0.325</td> <td> 0.745</td> <td>   -0.025</td> <td>    0.034</td>\n",
       "</tr>\n",
       "<tr>\n",
       "  <th>TMAX</th>                                                      <td>   -0.0019</td> <td>    0.007</td> <td>   -0.265</td> <td> 0.791</td> <td>   -0.016</td> <td>    0.012</td>\n",
       "</tr>\n",
       "<tr>\n",
       "  <th>GROUND_SERV_PER_PASS</th>                                      <td>   -0.0299</td> <td>    0.036</td> <td>   -0.822</td> <td> 0.411</td> <td>   -0.101</td> <td>    0.041</td>\n",
       "</tr>\n",
       "<tr>\n",
       "  <th>NUMBER_OF_SEATS</th>                                           <td>    0.0244</td> <td>    0.039</td> <td>    0.622</td> <td> 0.534</td> <td>   -0.052</td> <td>    0.101</td>\n",
       "</tr>\n",
       "<tr>\n",
       "  <th>AVG_MONTHLY_PASS_AIRLINE</th>                                  <td>   -0.0181</td> <td>    0.021</td> <td>   -0.875</td> <td> 0.382</td> <td>   -0.059</td> <td>    0.023</td>\n",
       "</tr>\n",
       "<tr>\n",
       "  <th>CONCURRENT_FLIGHTS</th>                                        <td>   -0.0199</td> <td>    0.034</td> <td>   -0.582</td> <td> 0.560</td> <td>   -0.087</td> <td>    0.047</td>\n",
       "</tr>\n",
       "<tr>\n",
       "  <th>AIRLINE_AIRPORT_FLIGHTS_MONTH</th>                             <td>    0.0097</td> <td>    0.032</td> <td>    0.304</td> <td> 0.761</td> <td>   -0.053</td> <td>    0.073</td>\n",
       "</tr>\n",
       "<tr>\n",
       "  <th>AVG_MONTHLY_PASS_AIRPORT</th>                                  <td>    0.0360</td> <td>    0.038</td> <td>    0.954</td> <td> 0.340</td> <td>   -0.038</td> <td>    0.110</td>\n",
       "</tr>\n",
       "<tr>\n",
       "  <th>AIRPORT_FLIGHTS_MONTH</th>                                     <td>    0.0219</td> <td>    0.032</td> <td>    0.684</td> <td> 0.494</td> <td>   -0.041</td> <td>    0.085</td>\n",
       "</tr>\n",
       "<tr>\n",
       "  <th>AWND</th>                                                      <td>    0.0484</td> <td>    0.049</td> <td>    0.980</td> <td> 0.327</td> <td>   -0.048</td> <td>    0.145</td>\n",
       "</tr>\n",
       "<tr>\n",
       "  <th>FLT_ATTENDANTS_PER_PASS</th>                                   <td>    0.0089</td> <td>    0.088</td> <td>    0.102</td> <td> 0.919</td> <td>   -0.163</td> <td>    0.181</td>\n",
       "</tr>\n",
       "<tr>\n",
       "  <th>PRCP</th>                                                      <td>    0.0031</td> <td>    0.020</td> <td>    0.154</td> <td> 0.878</td> <td>   -0.036</td> <td>    0.043</td>\n",
       "</tr>\n",
       "<tr>\n",
       "  <th>CARRIER_NAME_AllegiantAir</th>                                 <td>   -0.0379</td> <td>    0.128</td> <td>   -0.297</td> <td> 0.767</td> <td>   -0.288</td> <td>    0.212</td>\n",
       "</tr>\n",
       "<tr>\n",
       "  <th>CARRIER_NAME_AmericanAirlinesInc</th>                          <td>    0.0746</td> <td>    0.054</td> <td>    1.393</td> <td> 0.164</td> <td>   -0.030</td> <td>    0.180</td>\n",
       "</tr>\n",
       "<tr>\n",
       "  <th>CARRIER_NAME_AmericanEagleAirlinesInc</th>                     <td>    0.1486</td> <td>    0.062</td> <td>    2.410</td> <td> 0.016</td> <td>    0.028</td> <td>    0.269</td>\n",
       "</tr>\n",
       "<tr>\n",
       "  <th>CARRIER_NAME_AtlanticSoutheastAirlines</th>                    <td>    0.0849</td> <td>    0.061</td> <td>    1.393</td> <td> 0.164</td> <td>   -0.035</td> <td>    0.204</td>\n",
       "</tr>\n",
       "<tr>\n",
       "  <th>CARRIER_NAME_ComairInc</th>                                    <td>    0.0353</td> <td>    0.065</td> <td>    0.543</td> <td> 0.587</td> <td>   -0.092</td> <td>    0.163</td>\n",
       "</tr>\n",
       "<tr>\n",
       "  <th>CARRIER_NAME_DeltaAirLinesInc</th>                             <td>    0.0478</td> <td>    0.054</td> <td>    0.884</td> <td> 0.377</td> <td>   -0.058</td> <td>    0.154</td>\n",
       "</tr>\n",
       "<tr>\n",
       "  <th>CARRIER_NAME_EndeavorAirInc</th>                               <td>    0.0886</td> <td>    0.065</td> <td>    1.371</td> <td> 0.170</td> <td>   -0.038</td> <td>    0.215</td>\n",
       "</tr>\n",
       "<tr>\n",
       "  <th>CARRIER_NAME_FrontierAirlinesInc</th>                          <td>    0.1622</td> <td>    0.074</td> <td>    2.206</td> <td> 0.027</td> <td>    0.018</td> <td>    0.306</td>\n",
       "</tr>\n",
       "<tr>\n",
       "  <th>CARRIER_NAME_HawaiianAirlinesInc</th>                          <td>    0.0114</td> <td>    0.193</td> <td>    0.059</td> <td> 0.953</td> <td>   -0.366</td> <td>    0.389</td>\n",
       "</tr>\n",
       "<tr>\n",
       "  <th>CARRIER_NAME_JetBlueAirways</th>                               <td>    0.1069</td> <td>    0.059</td> <td>    1.814</td> <td> 0.070</td> <td>   -0.009</td> <td>    0.222</td>\n",
       "</tr>\n",
       "<tr>\n",
       "  <th>CARRIER_NAME_MesaAirlinesInc</th>                              <td>    0.1318</td> <td>    0.060</td> <td>    2.204</td> <td> 0.028</td> <td>    0.015</td> <td>    0.249</td>\n",
       "</tr>\n",
       "<tr>\n",
       "  <th>CARRIER_NAME_MidwestAirlineInc</th>                            <td>    0.0952</td> <td>    0.056</td> <td>    1.687</td> <td> 0.092</td> <td>   -0.015</td> <td>    0.206</td>\n",
       "</tr>\n",
       "<tr>\n",
       "  <th>CARRIER_NAME_SkyWestAirlinesInc</th>                           <td>    0.0764</td> <td>    0.055</td> <td>    1.389</td> <td> 0.165</td> <td>   -0.031</td> <td>    0.184</td>\n",
       "</tr>\n",
       "<tr>\n",
       "  <th>CARRIER_NAME_SouthwestAirlinesCo</th>                          <td>    0.0880</td> <td>    0.054</td> <td>    1.644</td> <td> 0.100</td> <td>   -0.017</td> <td>    0.193</td>\n",
       "</tr>\n",
       "<tr>\n",
       "  <th>CARRIER_NAME_SpiritAirLines</th>                               <td>    0.0870</td> <td>    0.065</td> <td>    1.334</td> <td> 0.182</td> <td>   -0.041</td> <td>    0.215</td>\n",
       "</tr>\n",
       "<tr>\n",
       "  <th>CARRIER_NAME_UnitedAirLinesInc</th>                            <td>    0.0794</td> <td>    0.054</td> <td>    1.463</td> <td> 0.143</td> <td>   -0.027</td> <td>    0.186</td>\n",
       "</tr>\n",
       "<tr>\n",
       "  <th>DEPARTING_AIRPORT_AnchorageInternational</th>                  <td>   -0.4860</td> <td>    1.085</td> <td>   -0.448</td> <td> 0.654</td> <td>   -2.612</td> <td>    1.640</td>\n",
       "</tr>\n",
       "<tr>\n",
       "  <th>DEPARTING_AIRPORT_AtlantaMunicipal</th>                        <td>   -0.0528</td> <td>    0.185</td> <td>   -0.285</td> <td> 0.776</td> <td>   -0.416</td> <td>    0.311</td>\n",
       "</tr>\n",
       "<tr>\n",
       "  <th>DEPARTING_AIRPORT_AustinBergstromInternational</th>            <td>   -0.0307</td> <td>    0.200</td> <td>   -0.153</td> <td> 0.878</td> <td>   -0.423</td> <td>    0.362</td>\n",
       "</tr>\n",
       "<tr>\n",
       "  <th>DEPARTING_AIRPORT_BirminghamAirport</th>                       <td>    0.0815</td> <td>    0.225</td> <td>    0.363</td> <td> 0.717</td> <td>   -0.359</td> <td>    0.522</td>\n",
       "</tr>\n",
       "<tr>\n",
       "  <th>DEPARTING_AIRPORT_BoiseAirTerminal</th>                        <td>   -0.0896</td> <td>    0.227</td> <td>   -0.395</td> <td> 0.693</td> <td>   -0.534</td> <td>    0.355</td>\n",
       "</tr>\n",
       "<tr>\n",
       "  <th>DEPARTING_AIRPORT_BradleyInternational</th>                    <td>   -0.2455</td> <td>    0.304</td> <td>   -0.807</td> <td> 0.420</td> <td>   -0.842</td> <td>    0.351</td>\n",
       "</tr>\n",
       "<tr>\n",
       "  <th>DEPARTING_AIRPORT_CharlestonInternational</th>                 <td>    0.1510</td> <td>    0.262</td> <td>    0.576</td> <td> 0.565</td> <td>   -0.363</td> <td>    0.665</td>\n",
       "</tr>\n",
       "<tr>\n",
       "  <th>DEPARTING_AIRPORT_ChicagoMidwayInternational</th>              <td>   -0.1665</td> <td>    0.214</td> <td>   -0.777</td> <td> 0.437</td> <td>   -0.587</td> <td>    0.254</td>\n",
       "</tr>\n",
       "<tr>\n",
       "  <th>DEPARTING_AIRPORT_ChicagoOHareInternational</th>               <td>   -0.0539</td> <td>    0.184</td> <td>   -0.292</td> <td> 0.770</td> <td>   -0.415</td> <td>    0.308</td>\n",
       "</tr>\n",
       "<tr>\n",
       "  <th>DEPARTING_AIRPORT_CincinnatiNorthernKentuckyInternational</th> <td>    0.0176</td> <td>    0.228</td> <td>    0.077</td> <td> 0.939</td> <td>   -0.430</td> <td>    0.465</td>\n",
       "</tr>\n",
       "<tr>\n",
       "  <th>DEPARTING_AIRPORT_ClevelandHopkinsInternational</th>           <td>   -0.5358</td> <td>    0.563</td> <td>   -0.952</td> <td> 0.341</td> <td>   -1.639</td> <td>    0.568</td>\n",
       "</tr>\n",
       "<tr>\n",
       "  <th>DEPARTING_AIRPORT_DallasFortWorthRegional</th>                 <td>   -0.0264</td> <td>    0.188</td> <td>   -0.140</td> <td> 0.888</td> <td>   -0.396</td> <td>    0.343</td>\n",
       "</tr>\n",
       "<tr>\n",
       "  <th>DEPARTING_AIRPORT_DallasLoveField</th>                         <td>   -0.1131</td> <td>    0.219</td> <td>   -0.516</td> <td> 0.606</td> <td>   -0.543</td> <td>    0.317</td>\n",
       "</tr>\n",
       "<tr>\n",
       "  <th>DEPARTING_AIRPORT_DesMoinesMunicipal</th>                      <td>   -0.4601</td> <td>    1.085</td> <td>   -0.424</td> <td> 0.672</td> <td>   -2.587</td> <td>    1.666</td>\n",
       "</tr>\n",
       "<tr>\n",
       "  <th>DEPARTING_AIRPORT_DetroitMetroWayneCounty</th>                 <td>   -0.0721</td> <td>    0.185</td> <td>   -0.390</td> <td> 0.697</td> <td>   -0.434</td> <td>    0.290</td>\n",
       "</tr>\n",
       "<tr>\n",
       "  <th>DEPARTING_AIRPORT_DouglasMunicipal</th>                        <td>   -0.0103</td> <td>    0.186</td> <td>   -0.056</td> <td> 0.956</td> <td>   -0.374</td> <td>    0.354</td>\n",
       "</tr>\n",
       "<tr>\n",
       "  <th>DEPARTING_AIRPORT_ElPasoInternational</th>                     <td>   -0.5308</td> <td>    0.775</td> <td>   -0.685</td> <td> 0.493</td> <td>   -2.050</td> <td>    0.988</td>\n",
       "</tr>\n",
       "<tr>\n",
       "  <th>DEPARTING_AIRPORT_EppleyAirfield</th>                          <td>   -0.2321</td> <td>    0.272</td> <td>   -0.852</td> <td> 0.394</td> <td>   -0.766</td> <td>    0.302</td>\n",
       "</tr>\n",
       "<tr>\n",
       "  <th>DEPARTING_AIRPORT_FortLauderdaleHollywoodInternational</th>    <td>    0.0267</td> <td>    0.196</td> <td>    0.136</td> <td> 0.892</td> <td>   -0.358</td> <td>    0.411</td>\n",
       "</tr>\n",
       "<tr>\n",
       "  <th>DEPARTING_AIRPORT_FriendshipInternational</th>                 <td>   -0.0581</td> <td>    0.200</td> <td>   -0.290</td> <td> 0.772</td> <td>   -0.450</td> <td>    0.334</td>\n",
       "</tr>\n",
       "<tr>\n",
       "  <th>DEPARTING_AIRPORT_GeneralMitchellField</th>                    <td>   -0.0212</td> <td>    0.210</td> <td>   -0.101</td> <td> 0.920</td> <td>   -0.433</td> <td>    0.391</td>\n",
       "</tr>\n",
       "<tr>\n",
       "  <th>DEPARTING_AIRPORT_GreaterBuffaloInternational</th>             <td>    0.2049</td> <td>    0.354</td> <td>    0.579</td> <td> 0.563</td> <td>   -0.489</td> <td>    0.899</td>\n",
       "</tr>\n",
       "<tr>\n",
       "  <th>DEPARTING_AIRPORT_GreenvilleSpartanburg</th>                   <td>    0.1208</td> <td>    0.237</td> <td>    0.511</td> <td> 0.610</td> <td>   -0.343</td> <td>    0.584</td>\n",
       "</tr>\n",
       "<tr>\n",
       "  <th>DEPARTING_AIRPORT_HollywoodBurbankMidpoint</th>                <td>   -7.8297</td> <td>   59.073</td> <td>   -0.133</td> <td> 0.895</td> <td> -123.611</td> <td>  107.952</td>\n",
       "</tr>\n",
       "<tr>\n",
       "  <th>DEPARTING_AIRPORT_HonoluluInternational</th>                   <td>   -0.2351</td> <td>    0.232</td> <td>   -1.014</td> <td> 0.311</td> <td>   -0.690</td> <td>    0.220</td>\n",
       "</tr>\n",
       "<tr>\n",
       "  <th>DEPARTING_AIRPORT_HoustonIntercontinental</th>                 <td>   -0.0409</td> <td>    0.184</td> <td>   -0.222</td> <td> 0.824</td> <td>   -0.402</td> <td>    0.320</td>\n",
       "</tr>\n",
       "<tr>\n",
       "  <th>DEPARTING_AIRPORT_IndianapolisMuniWeirCook</th>                <td>    0.0322</td> <td>    0.190</td> <td>    0.170</td> <td> 0.865</td> <td>   -0.340</td> <td>    0.405</td>\n",
       "</tr>\n",
       "<tr>\n",
       "  <th>DEPARTING_AIRPORT_JacksonvilleInternational</th>               <td>    0.0134</td> <td>    0.198</td> <td>    0.067</td> <td> 0.946</td> <td>   -0.375</td> <td>    0.402</td>\n",
       "</tr>\n",
       "<tr>\n",
       "  <th>DEPARTING_AIRPORT_JohnFKennedyInternational</th>               <td>   -0.0658</td> <td>    0.189</td> <td>   -0.348</td> <td> 0.728</td> <td>   -0.437</td> <td>    0.305</td>\n",
       "</tr>\n",
       "<tr>\n",
       "  <th>DEPARTING_AIRPORT_KansasCityInternational</th>                 <td>   -0.0597</td> <td>    0.199</td> <td>   -0.299</td> <td> 0.765</td> <td>   -0.450</td> <td>    0.331</td>\n",
       "</tr>\n",
       "<tr>\n",
       "  <th>DEPARTING_AIRPORT_Keahole</th>                                 <td>  -23.4877</td> <td> 1.49e+05</td> <td>   -0.000</td> <td> 1.000</td> <td>-2.92e+05</td> <td> 2.92e+05</td>\n",
       "</tr>\n",
       "<tr>\n",
       "  <th>DEPARTING_AIRPORT_KentCounty</th>                              <td>   -0.1085</td> <td>    0.430</td> <td>   -0.252</td> <td> 0.801</td> <td>   -0.951</td> <td>    0.734</td>\n",
       "</tr>\n",
       "<tr>\n",
       "  <th>DEPARTING_AIRPORT_LaGuardia</th>                               <td>   -0.0284</td> <td>    0.188</td> <td>   -0.151</td> <td> 0.880</td> <td>   -0.396</td> <td>    0.339</td>\n",
       "</tr>\n",
       "<tr>\n",
       "  <th>DEPARTING_AIRPORT_LambertStLouisInternational</th>             <td>   -0.0155</td> <td>    0.189</td> <td>   -0.082</td> <td> 0.935</td> <td>   -0.385</td> <td>    0.354</td>\n",
       "</tr>\n",
       "<tr>\n",
       "  <th>DEPARTING_AIRPORT_LoganInternational</th>                      <td>    0.0724</td> <td>    0.189</td> <td>    0.383</td> <td> 0.702</td> <td>   -0.299</td> <td>    0.443</td>\n",
       "</tr>\n",
       "<tr>\n",
       "  <th>DEPARTING_AIRPORT_LosAngelesInternational</th>                 <td>   -0.0386</td> <td>    0.187</td> <td>   -0.206</td> <td> 0.836</td> <td>   -0.405</td> <td>    0.328</td>\n",
       "</tr>\n",
       "<tr>\n",
       "  <th>DEPARTING_AIRPORT_LouisArmstrongNewOrleansInternational</th>   <td>    0.0170</td> <td>    0.190</td> <td>    0.089</td> <td> 0.929</td> <td>   -0.355</td> <td>    0.389</td>\n",
       "</tr>\n",
       "<tr>\n",
       "  <th>DEPARTING_AIRPORT_McCarranInternational</th>                   <td>   -0.0429</td> <td>    0.187</td> <td>   -0.229</td> <td> 0.819</td> <td>   -0.410</td> <td>    0.324</td>\n",
       "</tr>\n",
       "<tr>\n",
       "  <th>DEPARTING_AIRPORT_McGheeTyson</th>                             <td>   -0.0332</td> <td>    0.201</td> <td>   -0.165</td> <td> 0.869</td> <td>   -0.428</td> <td>    0.361</td>\n",
       "</tr>\n",
       "<tr>\n",
       "  <th>DEPARTING_AIRPORT_MemphisInternational</th>                    <td>   -0.1897</td> <td>    0.258</td> <td>   -0.736</td> <td> 0.462</td> <td>   -0.695</td> <td>    0.316</td>\n",
       "</tr>\n",
       "<tr>\n",
       "  <th>DEPARTING_AIRPORT_MetropolitanOaklandInternational</th>        <td>    0.0426</td> <td>    0.229</td> <td>    0.186</td> <td> 0.853</td> <td>   -0.407</td> <td>    0.492</td>\n",
       "</tr>\n",
       "<tr>\n",
       "  <th>DEPARTING_AIRPORT_MiamiInternational</th>                      <td>   -0.0197</td> <td>    0.190</td> <td>   -0.104</td> <td> 0.917</td> <td>   -0.392</td> <td>    0.353</td>\n",
       "</tr>\n",
       "<tr>\n",
       "  <th>DEPARTING_AIRPORT_MinneapolisStPaulInternational</th>          <td>   -0.1681</td> <td>    0.189</td> <td>   -0.888</td> <td> 0.375</td> <td>   -0.539</td> <td>    0.203</td>\n",
       "</tr>\n",
       "<tr>\n",
       "  <th>DEPARTING_AIRPORT_NashvilleInternational</th>                  <td>    0.0295</td> <td>    0.200</td> <td>    0.148</td> <td> 0.883</td> <td>   -0.362</td> <td>    0.421</td>\n",
       "</tr>\n",
       "<tr>\n",
       "  <th>DEPARTING_AIRPORT_NewarkLibertyInternational</th>              <td>   -0.0532</td> <td>    0.186</td> <td>   -0.286</td> <td> 0.775</td> <td>   -0.418</td> <td>    0.311</td>\n",
       "</tr>\n",
       "<tr>\n",
       "  <th>DEPARTING_AIRPORT_NorfolkInternational</th>                    <td>   -0.0141</td> <td>    0.215</td> <td>   -0.066</td> <td> 0.948</td> <td>   -0.435</td> <td>    0.407</td>\n",
       "</tr>\n",
       "<tr>\n",
       "  <th>DEPARTING_AIRPORT_OntarioInternational</th>                    <td>    1.2929</td> <td>    0.633</td> <td>    2.042</td> <td> 0.041</td> <td>    0.052</td> <td>    2.534</td>\n",
       "</tr>\n",
       "<tr>\n",
       "  <th>DEPARTING_AIRPORT_OrangeCounty</th>                            <td>   -0.3469</td> <td>    0.232</td> <td>   -1.495</td> <td> 0.135</td> <td>   -0.802</td> <td>    0.108</td>\n",
       "</tr>\n",
       "<tr>\n",
       "  <th>DEPARTING_AIRPORT_OrlandoInternational</th>                    <td>   -0.0262</td> <td>    0.191</td> <td>   -0.137</td> <td> 0.891</td> <td>   -0.401</td> <td>    0.349</td>\n",
       "</tr>\n",
       "<tr>\n",
       "  <th>DEPARTING_AIRPORT_PalmBeachInternational</th>                  <td>    0.0510</td> <td>    0.209</td> <td>    0.244</td> <td> 0.808</td> <td>   -0.359</td> <td>    0.461</td>\n",
       "</tr>\n",
       "<tr>\n",
       "  <th>DEPARTING_AIRPORT_PalmSpringsInternational</th>                <td>    0.0380</td> <td>    0.326</td> <td>    0.116</td> <td> 0.907</td> <td>   -0.602</td> <td>    0.678</td>\n",
       "</tr>\n",
       "<tr>\n",
       "  <th>DEPARTING_AIRPORT_PhiladelphiaInternational</th>               <td>   -0.0212</td> <td>    0.190</td> <td>   -0.112</td> <td> 0.911</td> <td>   -0.394</td> <td>    0.351</td>\n",
       "</tr>\n",
       "<tr>\n",
       "  <th>DEPARTING_AIRPORT_PhoenixSkyHarborInternational</th>           <td>    0.0155</td> <td>    0.186</td> <td>    0.083</td> <td> 0.934</td> <td>   -0.350</td> <td>    0.381</td>\n",
       "</tr>\n",
       "<tr>\n",
       "  <th>DEPARTING_AIRPORT_PiedmontTriadInternational</th>              <td>    0.1065</td> <td>    0.216</td> <td>    0.493</td> <td> 0.622</td> <td>   -0.317</td> <td>    0.530</td>\n",
       "</tr>\n",
       "<tr>\n",
       "  <th>DEPARTING_AIRPORT_PittsburghInternational</th>                 <td>   -0.0664</td> <td>    0.211</td> <td>   -0.315</td> <td> 0.753</td> <td>   -0.480</td> <td>    0.347</td>\n",
       "</tr>\n",
       "<tr>\n",
       "  <th>DEPARTING_AIRPORT_PortColumbusInternational</th>               <td>    0.0363</td> <td>    0.193</td> <td>    0.188</td> <td> 0.851</td> <td>   -0.342</td> <td>    0.415</td>\n",
       "</tr>\n",
       "<tr>\n",
       "  <th>DEPARTING_AIRPORT_PortlandInternational</th>                   <td>   -0.0054</td> <td>    0.200</td> <td>   -0.027</td> <td> 0.978</td> <td>   -0.397</td> <td>    0.386</td>\n",
       "</tr>\n",
       "<tr>\n",
       "  <th>DEPARTING_AIRPORT_RaleighDurhamInternational</th>              <td>   -0.0276</td> <td>    0.204</td> <td>   -0.135</td> <td> 0.893</td> <td>   -0.428</td> <td>    0.373</td>\n",
       "</tr>\n",
       "<tr>\n",
       "  <th>DEPARTING_AIRPORT_RenoTahoeInternational</th>                  <td>    0.4290</td> <td>    0.296</td> <td>    1.449</td> <td> 0.147</td> <td>   -0.151</td> <td>    1.009</td>\n",
       "</tr>\n",
       "<tr>\n",
       "  <th>DEPARTING_AIRPORT_RichmondInternational</th>                   <td>   -0.1809</td> <td>    0.213</td> <td>   -0.848</td> <td> 0.396</td> <td>   -0.599</td> <td>    0.237</td>\n",
       "</tr>\n",
       "<tr>\n",
       "  <th>DEPARTING_AIRPORT_RonaldReaganWashingtonNational</th>          <td>   -0.0392</td> <td>    0.189</td> <td>   -0.207</td> <td> 0.836</td> <td>   -0.410</td> <td>    0.332</td>\n",
       "</tr>\n",
       "<tr>\n",
       "  <th>DEPARTING_AIRPORT_SacramentoInternational</th>                 <td>   -0.2202</td> <td>    0.217</td> <td>   -1.015</td> <td> 0.310</td> <td>   -0.645</td> <td>    0.205</td>\n",
       "</tr>\n",
       "<tr>\n",
       "  <th>DEPARTING_AIRPORT_SaltLakeCityInternational</th>               <td>   -0.0612</td> <td>    0.189</td> <td>   -0.323</td> <td> 0.746</td> <td>   -0.432</td> <td>    0.309</td>\n",
       "</tr>\n",
       "<tr>\n",
       "  <th>DEPARTING_AIRPORT_SanAntonioInternational</th>                 <td>   -0.0168</td> <td>    0.231</td> <td>   -0.073</td> <td> 0.942</td> <td>   -0.470</td> <td>    0.437</td>\n",
       "</tr>\n",
       "<tr>\n",
       "  <th>DEPARTING_AIRPORT_SanDiegoInternationalLindberghFl</th>        <td>   -0.0524</td> <td>    0.190</td> <td>   -0.275</td> <td> 0.783</td> <td>   -0.426</td> <td>    0.321</td>\n",
       "</tr>\n",
       "<tr>\n",
       "  <th>DEPARTING_AIRPORT_SanFranciscoInternational</th>               <td>   -0.0415</td> <td>    0.188</td> <td>   -0.221</td> <td> 0.825</td> <td>   -0.410</td> <td>    0.327</td>\n",
       "</tr>\n",
       "<tr>\n",
       "  <th>DEPARTING_AIRPORT_SanJoseInternational</th>                    <td>   -0.1492</td> <td>    0.209</td> <td>   -0.713</td> <td> 0.476</td> <td>   -0.559</td> <td>    0.261</td>\n",
       "</tr>\n",
       "<tr>\n",
       "  <th>DEPARTING_AIRPORT_SavannahHiltonHeadInternational</th>         <td>    0.3221</td> <td>    0.692</td> <td>    0.466</td> <td> 0.642</td> <td>   -1.034</td> <td>    1.678</td>\n",
       "</tr>\n",
       "<tr>\n",
       "  <th>DEPARTING_AIRPORT_SeattleInternational</th>                    <td>    0.0158</td> <td>    0.189</td> <td>    0.083</td> <td> 0.934</td> <td>   -0.355</td> <td>    0.387</td>\n",
       "</tr>\n",
       "<tr>\n",
       "  <th>DEPARTING_AIRPORT_SouthwestFloridaInternational</th>           <td>    0.1311</td> <td>    0.220</td> <td>    0.597</td> <td> 0.551</td> <td>   -0.300</td> <td>    0.562</td>\n",
       "</tr>\n",
       "<tr>\n",
       "  <th>DEPARTING_AIRPORT_StandifordField</th>                         <td>   -0.1352</td> <td>    0.378</td> <td>   -0.358</td> <td> 0.721</td> <td>   -0.876</td> <td>    0.606</td>\n",
       "</tr>\n",
       "<tr>\n",
       "  <th>DEPARTING_AIRPORT_StapletonInternational</th>                  <td>   -0.0457</td> <td>    0.186</td> <td>   -0.245</td> <td> 0.807</td> <td>   -0.411</td> <td>    0.320</td>\n",
       "</tr>\n",
       "<tr>\n",
       "  <th>DEPARTING_AIRPORT_TampaInternational</th>                      <td>   -0.0546</td> <td>    0.199</td> <td>   -0.275</td> <td> 0.783</td> <td>   -0.444</td> <td>    0.335</td>\n",
       "</tr>\n",
       "<tr>\n",
       "  <th>DEPARTING_AIRPORT_TheodoreFrancisGreenState</th>               <td>   -0.4230</td> <td>    0.515</td> <td>   -0.822</td> <td> 0.411</td> <td>   -1.432</td> <td>    0.586</td>\n",
       "</tr>\n",
       "<tr>\n",
       "  <th>DEPARTING_AIRPORT_TucsonInternational</th>                     <td>   -0.1127</td> <td>    0.210</td> <td>   -0.536</td> <td> 0.592</td> <td>   -0.525</td> <td>    0.300</td>\n",
       "</tr>\n",
       "<tr>\n",
       "  <th>DEPARTING_AIRPORT_TulsaInternational</th>                      <td>   -1.0730</td> <td>    0.757</td> <td>   -1.417</td> <td> 0.157</td> <td>   -2.557</td> <td>    0.411</td>\n",
       "</tr>\n",
       "<tr>\n",
       "  <th>DEPARTING_AIRPORT_WashingtonDullesInternational</th>           <td>    0.0026</td> <td>    0.202</td> <td>    0.013</td> <td> 0.990</td> <td>   -0.394</td> <td>    0.399</td>\n",
       "</tr>\n",
       "<tr>\n",
       "  <th>DEPARTING_AIRPORT_WillRogersWorld</th>                         <td>    0.0822</td> <td>    0.218</td> <td>    0.377</td> <td> 0.706</td> <td>   -0.345</td> <td>    0.510</td>\n",
       "</tr>\n",
       "<tr>\n",
       "  <th>DEPARTING_AIRPORT_WilliamPHobby</th>                           <td>   -1.0044</td> <td>    1.057</td> <td>   -0.950</td> <td> 0.342</td> <td>   -3.076</td> <td>    1.067</td>\n",
       "</tr>\n",
       "<tr>\n",
       "  <th>PREVIOUS_AIRPORT_REGION_alabama</th>                           <td>   -0.0693</td> <td>    0.093</td> <td>   -0.743</td> <td> 0.457</td> <td>   -0.252</td> <td>    0.113</td>\n",
       "</tr>\n",
       "<tr>\n",
       "  <th>PREVIOUS_AIRPORT_REGION_alaska</th>                            <td>   -0.0180</td> <td>    0.169</td> <td>   -0.107</td> <td> 0.915</td> <td>   -0.350</td> <td>    0.313</td>\n",
       "</tr>\n",
       "<tr>\n",
       "  <th>PREVIOUS_AIRPORT_REGION_arizona</th>                           <td>    0.0144</td> <td>    0.046</td> <td>    0.315</td> <td> 0.753</td> <td>   -0.075</td> <td>    0.104</td>\n",
       "</tr>\n",
       "<tr>\n",
       "  <th>PREVIOUS_AIRPORT_REGION_arkansas</th>                          <td>   -0.0999</td> <td>    0.109</td> <td>   -0.920</td> <td> 0.358</td> <td>   -0.313</td> <td>    0.113</td>\n",
       "</tr>\n",
       "<tr>\n",
       "  <th>PREVIOUS_AIRPORT_REGION_california</th>                        <td>    0.0423</td> <td>    0.029</td> <td>    1.476</td> <td> 0.140</td> <td>   -0.014</td> <td>    0.098</td>\n",
       "</tr>\n",
       "<tr>\n",
       "  <th>PREVIOUS_AIRPORT_REGION_colorado</th>                          <td>   -0.0141</td> <td>    0.047</td> <td>   -0.299</td> <td> 0.765</td> <td>   -0.107</td> <td>    0.079</td>\n",
       "</tr>\n",
       "<tr>\n",
       "  <th>PREVIOUS_AIRPORT_REGION_connecticut</th>                       <td>   -0.1492</td> <td>    0.121</td> <td>   -1.229</td> <td> 0.219</td> <td>   -0.387</td> <td>    0.089</td>\n",
       "</tr>\n",
       "<tr>\n",
       "  <th>PREVIOUS_AIRPORT_REGION_florida</th>                           <td>    0.0597</td> <td>    0.029</td> <td>    2.068</td> <td> 0.039</td> <td>    0.003</td> <td>    0.116</td>\n",
       "</tr>\n",
       "<tr>\n",
       "  <th>PREVIOUS_AIRPORT_REGION_georgia</th>                           <td>    0.0097</td> <td>    0.045</td> <td>    0.214</td> <td> 0.830</td> <td>   -0.079</td> <td>    0.099</td>\n",
       "</tr>\n",
       "<tr>\n",
       "  <th>PREVIOUS_AIRPORT_REGION_guam</th>                              <td>   16.4686</td> <td> 1292.127</td> <td>    0.013</td> <td> 0.990</td> <td>-2516.053</td> <td> 2548.990</td>\n",
       "</tr>\n",
       "<tr>\n",
       "  <th>PREVIOUS_AIRPORT_REGION_hawaii</th>                            <td>    0.0079</td> <td>    0.126</td> <td>    0.063</td> <td> 0.950</td> <td>   -0.238</td> <td>    0.254</td>\n",
       "</tr>\n",
       "<tr>\n",
       "  <th>PREVIOUS_AIRPORT_REGION_idaho</th>                             <td>    0.2287</td> <td>    0.116</td> <td>    1.974</td> <td> 0.048</td> <td>    0.002</td> <td>    0.456</td>\n",
       "</tr>\n",
       "<tr>\n",
       "  <th>PREVIOUS_AIRPORT_REGION_illinois</th>                          <td>    0.0717</td> <td>    0.036</td> <td>    1.997</td> <td> 0.046</td> <td>    0.001</td> <td>    0.142</td>\n",
       "</tr>\n",
       "<tr>\n",
       "  <th>PREVIOUS_AIRPORT_REGION_indiana</th>                           <td>    0.1233</td> <td>    0.061</td> <td>    2.032</td> <td> 0.042</td> <td>    0.004</td> <td>    0.242</td>\n",
       "</tr>\n",
       "<tr>\n",
       "  <th>PREVIOUS_AIRPORT_REGION_iowa</th>                              <td>    0.0113</td> <td>    0.096</td> <td>    0.118</td> <td> 0.906</td> <td>   -0.177</td> <td>    0.200</td>\n",
       "</tr>\n",
       "<tr>\n",
       "  <th>PREVIOUS_AIRPORT_REGION_kansas</th>                            <td>   -0.0052</td> <td>    0.136</td> <td>   -0.038</td> <td> 0.970</td> <td>   -0.272</td> <td>    0.261</td>\n",
       "</tr>\n",
       "<tr>\n",
       "  <th>PREVIOUS_AIRPORT_REGION_kentucky</th>                          <td>   -0.0179</td> <td>    0.060</td> <td>   -0.300</td> <td> 0.764</td> <td>   -0.135</td> <td>    0.099</td>\n",
       "</tr>\n",
       "<tr>\n",
       "  <th>PREVIOUS_AIRPORT_REGION_louisiana</th>                         <td>    0.0059</td> <td>    0.059</td> <td>    0.101</td> <td> 0.920</td> <td>   -0.109</td> <td>    0.121</td>\n",
       "</tr>\n",
       "<tr>\n",
       "  <th>PREVIOUS_AIRPORT_REGION_maine</th>                             <td>   -0.1447</td> <td>    0.169</td> <td>   -0.854</td> <td> 0.393</td> <td>   -0.477</td> <td>    0.187</td>\n",
       "</tr>\n",
       "<tr>\n",
       "  <th>PREVIOUS_AIRPORT_REGION_maryland</th>                          <td>    0.0057</td> <td>    0.065</td> <td>    0.089</td> <td> 0.929</td> <td>   -0.121</td> <td>    0.133</td>\n",
       "</tr>\n",
       "<tr>\n",
       "  <th>PREVIOUS_AIRPORT_REGION_massachusetts</th>                     <td>    0.0354</td> <td>    0.057</td> <td>    0.624</td> <td> 0.532</td> <td>   -0.076</td> <td>    0.147</td>\n",
       "</tr>\n",
       "<tr>\n",
       "  <th>PREVIOUS_AIRPORT_REGION_michigan</th>                          <td>    0.0087</td> <td>    0.052</td> <td>    0.167</td> <td> 0.867</td> <td>   -0.093</td> <td>    0.110</td>\n",
       "</tr>\n",
       "<tr>\n",
       "  <th>PREVIOUS_AIRPORT_REGION_minnesota</th>                         <td>    0.0556</td> <td>    0.058</td> <td>    0.955</td> <td> 0.340</td> <td>   -0.059</td> <td>    0.170</td>\n",
       "</tr>\n",
       "<tr>\n",
       "  <th>PREVIOUS_AIRPORT_REGION_mississippi</th>                       <td>   -0.0618</td> <td>    0.134</td> <td>   -0.459</td> <td> 0.646</td> <td>   -0.325</td> <td>    0.202</td>\n",
       "</tr>\n",
       "<tr>\n",
       "  <th>PREVIOUS_AIRPORT_REGION_missouri</th>                          <td>    0.0441</td> <td>    0.050</td> <td>    0.876</td> <td> 0.381</td> <td>   -0.055</td> <td>    0.143</td>\n",
       "</tr>\n",
       "<tr>\n",
       "  <th>PREVIOUS_AIRPORT_REGION_montana</th>                           <td>    0.0145</td> <td>    0.123</td> <td>    0.118</td> <td> 0.906</td> <td>   -0.226</td> <td>    0.255</td>\n",
       "</tr>\n",
       "<tr>\n",
       "  <th>PREVIOUS_AIRPORT_REGION_nebraska</th>                          <td>    0.1390</td> <td>    0.099</td> <td>    1.404</td> <td> 0.160</td> <td>   -0.055</td> <td>    0.333</td>\n",
       "</tr>\n",
       "<tr>\n",
       "  <th>PREVIOUS_AIRPORT_REGION_nevada</th>                            <td>    0.1594</td> <td>    0.059</td> <td>    2.682</td> <td> 0.007</td> <td>    0.043</td> <td>    0.276</td>\n",
       "</tr>\n",
       "<tr>\n",
       "  <th>PREVIOUS_AIRPORT_REGION_new_hampshire</th>                     <td>   -0.1244</td> <td>    0.239</td> <td>   -0.520</td> <td> 0.603</td> <td>   -0.594</td> <td>    0.345</td>\n",
       "</tr>\n",
       "<tr>\n",
       "  <th>PREVIOUS_AIRPORT_REGION_new_jersey</th>                        <td>    0.0821</td> <td>    0.063</td> <td>    1.308</td> <td> 0.191</td> <td>   -0.041</td> <td>    0.205</td>\n",
       "</tr>\n",
       "<tr>\n",
       "  <th>PREVIOUS_AIRPORT_REGION_new_mexico</th>                        <td>    0.1544</td> <td>    0.119</td> <td>    1.294</td> <td> 0.196</td> <td>   -0.079</td> <td>    0.388</td>\n",
       "</tr>\n",
       "<tr>\n",
       "  <th>PREVIOUS_AIRPORT_REGION_new_york</th>                          <td>    0.0292</td> <td>    0.038</td> <td>    0.758</td> <td> 0.448</td> <td>   -0.046</td> <td>    0.105</td>\n",
       "</tr>\n",
       "<tr>\n",
       "  <th>PREVIOUS_AIRPORT_REGION_north_carolina</th>                    <td>    0.0015</td> <td>    0.058</td> <td>    0.027</td> <td> 0.979</td> <td>   -0.111</td> <td>    0.114</td>\n",
       "</tr>\n",
       "<tr>\n",
       "  <th>PREVIOUS_AIRPORT_REGION_north_dakota</th>                      <td>   -0.0093</td> <td>    0.150</td> <td>   -0.062</td> <td> 0.951</td> <td>   -0.303</td> <td>    0.285</td>\n",
       "</tr>\n",
       "<tr>\n",
       "  <th>PREVIOUS_AIRPORT_REGION_ohio</th>                              <td>    0.0759</td> <td>    0.048</td> <td>    1.566</td> <td> 0.117</td> <td>   -0.019</td> <td>    0.171</td>\n",
       "</tr>\n",
       "<tr>\n",
       "  <th>PREVIOUS_AIRPORT_REGION_oklahoma</th>                          <td>   -0.0080</td> <td>    0.089</td> <td>   -0.090</td> <td> 0.928</td> <td>   -0.182</td> <td>    0.166</td>\n",
       "</tr>\n",
       "<tr>\n",
       "  <th>PREVIOUS_AIRPORT_REGION_oregon</th>                            <td>    0.0510</td> <td>    0.076</td> <td>    0.674</td> <td> 0.500</td> <td>   -0.097</td> <td>    0.199</td>\n",
       "</tr>\n",
       "<tr>\n",
       "  <th>PREVIOUS_AIRPORT_REGION_pennsylvania</th>                      <td>    0.0262</td> <td>    0.047</td> <td>    0.554</td> <td> 0.580</td> <td>   -0.066</td> <td>    0.119</td>\n",
       "</tr>\n",
       "<tr>\n",
       "  <th>PREVIOUS_AIRPORT_REGION_puerto_rico</th>                       <td>   -0.0371</td> <td>    0.127</td> <td>   -0.293</td> <td> 0.769</td> <td>   -0.285</td> <td>    0.211</td>\n",
       "</tr>\n",
       "<tr>\n",
       "  <th>PREVIOUS_AIRPORT_REGION_rhode_island</th>                      <td>    0.0669</td> <td>    0.149</td> <td>    0.448</td> <td> 0.654</td> <td>   -0.226</td> <td>    0.360</td>\n",
       "</tr>\n",
       "<tr>\n",
       "  <th>PREVIOUS_AIRPORT_REGION_south_carolina</th>                    <td>    0.2042</td> <td>    0.078</td> <td>    2.604</td> <td> 0.009</td> <td>    0.051</td> <td>    0.358</td>\n",
       "</tr>\n",
       "<tr>\n",
       "  <th>PREVIOUS_AIRPORT_REGION_south_dakota</th>                      <td>   -0.1181</td> <td>    0.178</td> <td>   -0.662</td> <td> 0.508</td> <td>   -0.468</td> <td>    0.231</td>\n",
       "</tr>\n",
       "<tr>\n",
       "  <th>PREVIOUS_AIRPORT_REGION_tennessee</th>                         <td>   -0.0098</td> <td>    0.052</td> <td>   -0.187</td> <td> 0.852</td> <td>   -0.112</td> <td>    0.093</td>\n",
       "</tr>\n",
       "<tr>\n",
       "  <th>PREVIOUS_AIRPORT_REGION_texas</th>                             <td>    0.0426</td> <td>    0.030</td> <td>    1.401</td> <td> 0.161</td> <td>   -0.017</td> <td>    0.102</td>\n",
       "</tr>\n",
       "<tr>\n",
       "  <th>PREVIOUS_AIRPORT_REGION_uthah</th>                             <td>   -0.0641</td> <td>    0.068</td> <td>   -0.947</td> <td> 0.344</td> <td>   -0.197</td> <td>    0.069</td>\n",
       "</tr>\n",
       "<tr>\n",
       "  <th>PREVIOUS_AIRPORT_REGION_vermont</th>                           <td>   -0.2421</td> <td>    0.177</td> <td>   -1.372</td> <td> 0.170</td> <td>   -0.588</td> <td>    0.104</td>\n",
       "</tr>\n",
       "<tr>\n",
       "  <th>PREVIOUS_AIRPORT_REGION_virgin_islands</th>                    <td>    0.3529</td> <td>    0.513</td> <td>    0.688</td> <td> 0.491</td> <td>   -0.652</td> <td>    1.358</td>\n",
       "</tr>\n",
       "<tr>\n",
       "  <th>PREVIOUS_AIRPORT_REGION_virginia</th>                          <td>   -0.0120</td> <td>    0.047</td> <td>   -0.255</td> <td> 0.799</td> <td>   -0.104</td> <td>    0.080</td>\n",
       "</tr>\n",
       "<tr>\n",
       "  <th>PREVIOUS_AIRPORT_REGION_washington</th>                        <td>   -0.0337</td> <td>    0.054</td> <td>   -0.625</td> <td> 0.532</td> <td>   -0.139</td> <td>    0.072</td>\n",
       "</tr>\n",
       "<tr>\n",
       "  <th>PREVIOUS_AIRPORT_REGION_west_virginia</th>                     <td>   -0.0640</td> <td>    0.177</td> <td>   -0.362</td> <td> 0.717</td> <td>   -0.410</td> <td>    0.282</td>\n",
       "</tr>\n",
       "<tr>\n",
       "  <th>PREVIOUS_AIRPORT_REGION_wisconsin</th>                         <td>   -0.0529</td> <td>    0.073</td> <td>   -0.722</td> <td> 0.470</td> <td>   -0.196</td> <td>    0.091</td>\n",
       "</tr>\n",
       "<tr>\n",
       "  <th>PREVIOUS_AIRPORT_REGION_wyoming</th>                           <td>    0.3074</td> <td>    0.167</td> <td>    1.837</td> <td> 0.066</td> <td>   -0.021</td> <td>    0.635</td>\n",
       "</tr>\n",
       "<tr>\n",
       "  <th>DAY_OF_WEEK</th>                                               <td>    0.0019</td> <td>    0.004</td> <td>    0.467</td> <td> 0.640</td> <td>   -0.006</td> <td>    0.010</td>\n",
       "</tr>\n",
       "<tr>\n",
       "  <th>DEP_TIME_BLK</th>                                              <td>    0.0010</td> <td>    0.001</td> <td>    0.696</td> <td> 0.486</td> <td>   -0.002</td> <td>    0.004</td>\n",
       "</tr>\n",
       "<tr>\n",
       "  <th>DISTANCE_GROUP</th>                                            <td>    0.0043</td> <td>    0.003</td> <td>    1.359</td> <td> 0.174</td> <td>   -0.002</td> <td>    0.011</td>\n",
       "</tr>\n",
       "<tr>\n",
       "  <th>PLANE_AGE</th>                                                 <td>    0.0010</td> <td>    0.001</td> <td>    0.973</td> <td> 0.331</td> <td>   -0.001</td> <td>    0.003</td>\n",
       "</tr>\n",
       "<tr>\n",
       "  <th>SEGMENT_NUMBER</th>                                            <td>   -0.0020</td> <td>    0.004</td> <td>   -0.475</td> <td> 0.635</td> <td>   -0.010</td> <td>    0.006</td>\n",
       "</tr>\n",
       "<tr>\n",
       "  <th>SNOW</th>                                                      <td>    0.0095</td> <td>    0.031</td> <td>    0.310</td> <td> 0.756</td> <td>   -0.051</td> <td>    0.070</td>\n",
       "</tr>\n",
       "<tr>\n",
       "  <th>SNWD</th>                                                      <td>    0.0042</td> <td>    0.008</td> <td>    0.550</td> <td> 0.582</td> <td>   -0.011</td> <td>    0.019</td>\n",
       "</tr>\n",
       "</table>"
      ],
      "text/plain": [
       "<class 'statsmodels.iolib.summary.Summary'>\n",
       "\"\"\"\n",
       "                           Logit Regression Results                           \n",
       "==============================================================================\n",
       "Dep. Variable:                      y   No. Observations:               140000\n",
       "Model:                          Logit   Df Residuals:                   139833\n",
       "Method:                           MLE   Df Model:                          166\n",
       "Date:                Wed, 06 Jul 2022   Pseudo R-squ.:                0.001134\n",
       "Time:                        19:41:49   Log-Likelihood:                -66663.\n",
       "converged:                      False   LL-Null:                       -66738.\n",
       "Covariance Type:            nonrobust   LLR p-value:                    0.7854\n",
       "=============================================================================================================================\n",
       "                                                                coef    std err          z      P>|z|      [0.025      0.975]\n",
       "-----------------------------------------------------------------------------------------------------------------------------\n",
       "const                                                        -1.6330      0.197     -8.291      0.000      -2.019      -1.247\n",
       "AIRLINE_FLIGHTS_MONTH                                         0.0049      0.015      0.325      0.745      -0.025       0.034\n",
       "TMAX                                                         -0.0019      0.007     -0.265      0.791      -0.016       0.012\n",
       "GROUND_SERV_PER_PASS                                         -0.0299      0.036     -0.822      0.411      -0.101       0.041\n",
       "NUMBER_OF_SEATS                                               0.0244      0.039      0.622      0.534      -0.052       0.101\n",
       "AVG_MONTHLY_PASS_AIRLINE                                     -0.0181      0.021     -0.875      0.382      -0.059       0.023\n",
       "CONCURRENT_FLIGHTS                                           -0.0199      0.034     -0.582      0.560      -0.087       0.047\n",
       "AIRLINE_AIRPORT_FLIGHTS_MONTH                                 0.0097      0.032      0.304      0.761      -0.053       0.073\n",
       "AVG_MONTHLY_PASS_AIRPORT                                      0.0360      0.038      0.954      0.340      -0.038       0.110\n",
       "AIRPORT_FLIGHTS_MONTH                                         0.0219      0.032      0.684      0.494      -0.041       0.085\n",
       "AWND                                                          0.0484      0.049      0.980      0.327      -0.048       0.145\n",
       "FLT_ATTENDANTS_PER_PASS                                       0.0089      0.088      0.102      0.919      -0.163       0.181\n",
       "PRCP                                                          0.0031      0.020      0.154      0.878      -0.036       0.043\n",
       "CARRIER_NAME_AllegiantAir                                    -0.0379      0.128     -0.297      0.767      -0.288       0.212\n",
       "CARRIER_NAME_AmericanAirlinesInc                              0.0746      0.054      1.393      0.164      -0.030       0.180\n",
       "CARRIER_NAME_AmericanEagleAirlinesInc                         0.1486      0.062      2.410      0.016       0.028       0.269\n",
       "CARRIER_NAME_AtlanticSoutheastAirlines                        0.0849      0.061      1.393      0.164      -0.035       0.204\n",
       "CARRIER_NAME_ComairInc                                        0.0353      0.065      0.543      0.587      -0.092       0.163\n",
       "CARRIER_NAME_DeltaAirLinesInc                                 0.0478      0.054      0.884      0.377      -0.058       0.154\n",
       "CARRIER_NAME_EndeavorAirInc                                   0.0886      0.065      1.371      0.170      -0.038       0.215\n",
       "CARRIER_NAME_FrontierAirlinesInc                              0.1622      0.074      2.206      0.027       0.018       0.306\n",
       "CARRIER_NAME_HawaiianAirlinesInc                              0.0114      0.193      0.059      0.953      -0.366       0.389\n",
       "CARRIER_NAME_JetBlueAirways                                   0.1069      0.059      1.814      0.070      -0.009       0.222\n",
       "CARRIER_NAME_MesaAirlinesInc                                  0.1318      0.060      2.204      0.028       0.015       0.249\n",
       "CARRIER_NAME_MidwestAirlineInc                                0.0952      0.056      1.687      0.092      -0.015       0.206\n",
       "CARRIER_NAME_SkyWestAirlinesInc                               0.0764      0.055      1.389      0.165      -0.031       0.184\n",
       "CARRIER_NAME_SouthwestAirlinesCo                              0.0880      0.054      1.644      0.100      -0.017       0.193\n",
       "CARRIER_NAME_SpiritAirLines                                   0.0870      0.065      1.334      0.182      -0.041       0.215\n",
       "CARRIER_NAME_UnitedAirLinesInc                                0.0794      0.054      1.463      0.143      -0.027       0.186\n",
       "DEPARTING_AIRPORT_AnchorageInternational                     -0.4860      1.085     -0.448      0.654      -2.612       1.640\n",
       "DEPARTING_AIRPORT_AtlantaMunicipal                           -0.0528      0.185     -0.285      0.776      -0.416       0.311\n",
       "DEPARTING_AIRPORT_AustinBergstromInternational               -0.0307      0.200     -0.153      0.878      -0.423       0.362\n",
       "DEPARTING_AIRPORT_BirminghamAirport                           0.0815      0.225      0.363      0.717      -0.359       0.522\n",
       "DEPARTING_AIRPORT_BoiseAirTerminal                           -0.0896      0.227     -0.395      0.693      -0.534       0.355\n",
       "DEPARTING_AIRPORT_BradleyInternational                       -0.2455      0.304     -0.807      0.420      -0.842       0.351\n",
       "DEPARTING_AIRPORT_CharlestonInternational                     0.1510      0.262      0.576      0.565      -0.363       0.665\n",
       "DEPARTING_AIRPORT_ChicagoMidwayInternational                 -0.1665      0.214     -0.777      0.437      -0.587       0.254\n",
       "DEPARTING_AIRPORT_ChicagoOHareInternational                  -0.0539      0.184     -0.292      0.770      -0.415       0.308\n",
       "DEPARTING_AIRPORT_CincinnatiNorthernKentuckyInternational     0.0176      0.228      0.077      0.939      -0.430       0.465\n",
       "DEPARTING_AIRPORT_ClevelandHopkinsInternational              -0.5358      0.563     -0.952      0.341      -1.639       0.568\n",
       "DEPARTING_AIRPORT_DallasFortWorthRegional                    -0.0264      0.188     -0.140      0.888      -0.396       0.343\n",
       "DEPARTING_AIRPORT_DallasLoveField                            -0.1131      0.219     -0.516      0.606      -0.543       0.317\n",
       "DEPARTING_AIRPORT_DesMoinesMunicipal                         -0.4601      1.085     -0.424      0.672      -2.587       1.666\n",
       "DEPARTING_AIRPORT_DetroitMetroWayneCounty                    -0.0721      0.185     -0.390      0.697      -0.434       0.290\n",
       "DEPARTING_AIRPORT_DouglasMunicipal                           -0.0103      0.186     -0.056      0.956      -0.374       0.354\n",
       "DEPARTING_AIRPORT_ElPasoInternational                        -0.5308      0.775     -0.685      0.493      -2.050       0.988\n",
       "DEPARTING_AIRPORT_EppleyAirfield                             -0.2321      0.272     -0.852      0.394      -0.766       0.302\n",
       "DEPARTING_AIRPORT_FortLauderdaleHollywoodInternational        0.0267      0.196      0.136      0.892      -0.358       0.411\n",
       "DEPARTING_AIRPORT_FriendshipInternational                    -0.0581      0.200     -0.290      0.772      -0.450       0.334\n",
       "DEPARTING_AIRPORT_GeneralMitchellField                       -0.0212      0.210     -0.101      0.920      -0.433       0.391\n",
       "DEPARTING_AIRPORT_GreaterBuffaloInternational                 0.2049      0.354      0.579      0.563      -0.489       0.899\n",
       "DEPARTING_AIRPORT_GreenvilleSpartanburg                       0.1208      0.237      0.511      0.610      -0.343       0.584\n",
       "DEPARTING_AIRPORT_HollywoodBurbankMidpoint                   -7.8297     59.073     -0.133      0.895    -123.611     107.952\n",
       "DEPARTING_AIRPORT_HonoluluInternational                      -0.2351      0.232     -1.014      0.311      -0.690       0.220\n",
       "DEPARTING_AIRPORT_HoustonIntercontinental                    -0.0409      0.184     -0.222      0.824      -0.402       0.320\n",
       "DEPARTING_AIRPORT_IndianapolisMuniWeirCook                    0.0322      0.190      0.170      0.865      -0.340       0.405\n",
       "DEPARTING_AIRPORT_JacksonvilleInternational                   0.0134      0.198      0.067      0.946      -0.375       0.402\n",
       "DEPARTING_AIRPORT_JohnFKennedyInternational                  -0.0658      0.189     -0.348      0.728      -0.437       0.305\n",
       "DEPARTING_AIRPORT_KansasCityInternational                    -0.0597      0.199     -0.299      0.765      -0.450       0.331\n",
       "DEPARTING_AIRPORT_Keahole                                   -23.4877   1.49e+05     -0.000      1.000   -2.92e+05    2.92e+05\n",
       "DEPARTING_AIRPORT_KentCounty                                 -0.1085      0.430     -0.252      0.801      -0.951       0.734\n",
       "DEPARTING_AIRPORT_LaGuardia                                  -0.0284      0.188     -0.151      0.880      -0.396       0.339\n",
       "DEPARTING_AIRPORT_LambertStLouisInternational                -0.0155      0.189     -0.082      0.935      -0.385       0.354\n",
       "DEPARTING_AIRPORT_LoganInternational                          0.0724      0.189      0.383      0.702      -0.299       0.443\n",
       "DEPARTING_AIRPORT_LosAngelesInternational                    -0.0386      0.187     -0.206      0.836      -0.405       0.328\n",
       "DEPARTING_AIRPORT_LouisArmstrongNewOrleansInternational       0.0170      0.190      0.089      0.929      -0.355       0.389\n",
       "DEPARTING_AIRPORT_McCarranInternational                      -0.0429      0.187     -0.229      0.819      -0.410       0.324\n",
       "DEPARTING_AIRPORT_McGheeTyson                                -0.0332      0.201     -0.165      0.869      -0.428       0.361\n",
       "DEPARTING_AIRPORT_MemphisInternational                       -0.1897      0.258     -0.736      0.462      -0.695       0.316\n",
       "DEPARTING_AIRPORT_MetropolitanOaklandInternational            0.0426      0.229      0.186      0.853      -0.407       0.492\n",
       "DEPARTING_AIRPORT_MiamiInternational                         -0.0197      0.190     -0.104      0.917      -0.392       0.353\n",
       "DEPARTING_AIRPORT_MinneapolisStPaulInternational             -0.1681      0.189     -0.888      0.375      -0.539       0.203\n",
       "DEPARTING_AIRPORT_NashvilleInternational                      0.0295      0.200      0.148      0.883      -0.362       0.421\n",
       "DEPARTING_AIRPORT_NewarkLibertyInternational                 -0.0532      0.186     -0.286      0.775      -0.418       0.311\n",
       "DEPARTING_AIRPORT_NorfolkInternational                       -0.0141      0.215     -0.066      0.948      -0.435       0.407\n",
       "DEPARTING_AIRPORT_OntarioInternational                        1.2929      0.633      2.042      0.041       0.052       2.534\n",
       "DEPARTING_AIRPORT_OrangeCounty                               -0.3469      0.232     -1.495      0.135      -0.802       0.108\n",
       "DEPARTING_AIRPORT_OrlandoInternational                       -0.0262      0.191     -0.137      0.891      -0.401       0.349\n",
       "DEPARTING_AIRPORT_PalmBeachInternational                      0.0510      0.209      0.244      0.808      -0.359       0.461\n",
       "DEPARTING_AIRPORT_PalmSpringsInternational                    0.0380      0.326      0.116      0.907      -0.602       0.678\n",
       "DEPARTING_AIRPORT_PhiladelphiaInternational                  -0.0212      0.190     -0.112      0.911      -0.394       0.351\n",
       "DEPARTING_AIRPORT_PhoenixSkyHarborInternational               0.0155      0.186      0.083      0.934      -0.350       0.381\n",
       "DEPARTING_AIRPORT_PiedmontTriadInternational                  0.1065      0.216      0.493      0.622      -0.317       0.530\n",
       "DEPARTING_AIRPORT_PittsburghInternational                    -0.0664      0.211     -0.315      0.753      -0.480       0.347\n",
       "DEPARTING_AIRPORT_PortColumbusInternational                   0.0363      0.193      0.188      0.851      -0.342       0.415\n",
       "DEPARTING_AIRPORT_PortlandInternational                      -0.0054      0.200     -0.027      0.978      -0.397       0.386\n",
       "DEPARTING_AIRPORT_RaleighDurhamInternational                 -0.0276      0.204     -0.135      0.893      -0.428       0.373\n",
       "DEPARTING_AIRPORT_RenoTahoeInternational                      0.4290      0.296      1.449      0.147      -0.151       1.009\n",
       "DEPARTING_AIRPORT_RichmondInternational                      -0.1809      0.213     -0.848      0.396      -0.599       0.237\n",
       "DEPARTING_AIRPORT_RonaldReaganWashingtonNational             -0.0392      0.189     -0.207      0.836      -0.410       0.332\n",
       "DEPARTING_AIRPORT_SacramentoInternational                    -0.2202      0.217     -1.015      0.310      -0.645       0.205\n",
       "DEPARTING_AIRPORT_SaltLakeCityInternational                  -0.0612      0.189     -0.323      0.746      -0.432       0.309\n",
       "DEPARTING_AIRPORT_SanAntonioInternational                    -0.0168      0.231     -0.073      0.942      -0.470       0.437\n",
       "DEPARTING_AIRPORT_SanDiegoInternationalLindberghFl           -0.0524      0.190     -0.275      0.783      -0.426       0.321\n",
       "DEPARTING_AIRPORT_SanFranciscoInternational                  -0.0415      0.188     -0.221      0.825      -0.410       0.327\n",
       "DEPARTING_AIRPORT_SanJoseInternational                       -0.1492      0.209     -0.713      0.476      -0.559       0.261\n",
       "DEPARTING_AIRPORT_SavannahHiltonHeadInternational             0.3221      0.692      0.466      0.642      -1.034       1.678\n",
       "DEPARTING_AIRPORT_SeattleInternational                        0.0158      0.189      0.083      0.934      -0.355       0.387\n",
       "DEPARTING_AIRPORT_SouthwestFloridaInternational               0.1311      0.220      0.597      0.551      -0.300       0.562\n",
       "DEPARTING_AIRPORT_StandifordField                            -0.1352      0.378     -0.358      0.721      -0.876       0.606\n",
       "DEPARTING_AIRPORT_StapletonInternational                     -0.0457      0.186     -0.245      0.807      -0.411       0.320\n",
       "DEPARTING_AIRPORT_TampaInternational                         -0.0546      0.199     -0.275      0.783      -0.444       0.335\n",
       "DEPARTING_AIRPORT_TheodoreFrancisGreenState                  -0.4230      0.515     -0.822      0.411      -1.432       0.586\n",
       "DEPARTING_AIRPORT_TucsonInternational                        -0.1127      0.210     -0.536      0.592      -0.525       0.300\n",
       "DEPARTING_AIRPORT_TulsaInternational                         -1.0730      0.757     -1.417      0.157      -2.557       0.411\n",
       "DEPARTING_AIRPORT_WashingtonDullesInternational               0.0026      0.202      0.013      0.990      -0.394       0.399\n",
       "DEPARTING_AIRPORT_WillRogersWorld                             0.0822      0.218      0.377      0.706      -0.345       0.510\n",
       "DEPARTING_AIRPORT_WilliamPHobby                              -1.0044      1.057     -0.950      0.342      -3.076       1.067\n",
       "PREVIOUS_AIRPORT_REGION_alabama                              -0.0693      0.093     -0.743      0.457      -0.252       0.113\n",
       "PREVIOUS_AIRPORT_REGION_alaska                               -0.0180      0.169     -0.107      0.915      -0.350       0.313\n",
       "PREVIOUS_AIRPORT_REGION_arizona                               0.0144      0.046      0.315      0.753      -0.075       0.104\n",
       "PREVIOUS_AIRPORT_REGION_arkansas                             -0.0999      0.109     -0.920      0.358      -0.313       0.113\n",
       "PREVIOUS_AIRPORT_REGION_california                            0.0423      0.029      1.476      0.140      -0.014       0.098\n",
       "PREVIOUS_AIRPORT_REGION_colorado                             -0.0141      0.047     -0.299      0.765      -0.107       0.079\n",
       "PREVIOUS_AIRPORT_REGION_connecticut                          -0.1492      0.121     -1.229      0.219      -0.387       0.089\n",
       "PREVIOUS_AIRPORT_REGION_florida                               0.0597      0.029      2.068      0.039       0.003       0.116\n",
       "PREVIOUS_AIRPORT_REGION_georgia                               0.0097      0.045      0.214      0.830      -0.079       0.099\n",
       "PREVIOUS_AIRPORT_REGION_guam                                 16.4686   1292.127      0.013      0.990   -2516.053    2548.990\n",
       "PREVIOUS_AIRPORT_REGION_hawaii                                0.0079      0.126      0.063      0.950      -0.238       0.254\n",
       "PREVIOUS_AIRPORT_REGION_idaho                                 0.2287      0.116      1.974      0.048       0.002       0.456\n",
       "PREVIOUS_AIRPORT_REGION_illinois                              0.0717      0.036      1.997      0.046       0.001       0.142\n",
       "PREVIOUS_AIRPORT_REGION_indiana                               0.1233      0.061      2.032      0.042       0.004       0.242\n",
       "PREVIOUS_AIRPORT_REGION_iowa                                  0.0113      0.096      0.118      0.906      -0.177       0.200\n",
       "PREVIOUS_AIRPORT_REGION_kansas                               -0.0052      0.136     -0.038      0.970      -0.272       0.261\n",
       "PREVIOUS_AIRPORT_REGION_kentucky                             -0.0179      0.060     -0.300      0.764      -0.135       0.099\n",
       "PREVIOUS_AIRPORT_REGION_louisiana                             0.0059      0.059      0.101      0.920      -0.109       0.121\n",
       "PREVIOUS_AIRPORT_REGION_maine                                -0.1447      0.169     -0.854      0.393      -0.477       0.187\n",
       "PREVIOUS_AIRPORT_REGION_maryland                              0.0057      0.065      0.089      0.929      -0.121       0.133\n",
       "PREVIOUS_AIRPORT_REGION_massachusetts                         0.0354      0.057      0.624      0.532      -0.076       0.147\n",
       "PREVIOUS_AIRPORT_REGION_michigan                              0.0087      0.052      0.167      0.867      -0.093       0.110\n",
       "PREVIOUS_AIRPORT_REGION_minnesota                             0.0556      0.058      0.955      0.340      -0.059       0.170\n",
       "PREVIOUS_AIRPORT_REGION_mississippi                          -0.0618      0.134     -0.459      0.646      -0.325       0.202\n",
       "PREVIOUS_AIRPORT_REGION_missouri                              0.0441      0.050      0.876      0.381      -0.055       0.143\n",
       "PREVIOUS_AIRPORT_REGION_montana                               0.0145      0.123      0.118      0.906      -0.226       0.255\n",
       "PREVIOUS_AIRPORT_REGION_nebraska                              0.1390      0.099      1.404      0.160      -0.055       0.333\n",
       "PREVIOUS_AIRPORT_REGION_nevada                                0.1594      0.059      2.682      0.007       0.043       0.276\n",
       "PREVIOUS_AIRPORT_REGION_new_hampshire                        -0.1244      0.239     -0.520      0.603      -0.594       0.345\n",
       "PREVIOUS_AIRPORT_REGION_new_jersey                            0.0821      0.063      1.308      0.191      -0.041       0.205\n",
       "PREVIOUS_AIRPORT_REGION_new_mexico                            0.1544      0.119      1.294      0.196      -0.079       0.388\n",
       "PREVIOUS_AIRPORT_REGION_new_york                              0.0292      0.038      0.758      0.448      -0.046       0.105\n",
       "PREVIOUS_AIRPORT_REGION_north_carolina                        0.0015      0.058      0.027      0.979      -0.111       0.114\n",
       "PREVIOUS_AIRPORT_REGION_north_dakota                         -0.0093      0.150     -0.062      0.951      -0.303       0.285\n",
       "PREVIOUS_AIRPORT_REGION_ohio                                  0.0759      0.048      1.566      0.117      -0.019       0.171\n",
       "PREVIOUS_AIRPORT_REGION_oklahoma                             -0.0080      0.089     -0.090      0.928      -0.182       0.166\n",
       "PREVIOUS_AIRPORT_REGION_oregon                                0.0510      0.076      0.674      0.500      -0.097       0.199\n",
       "PREVIOUS_AIRPORT_REGION_pennsylvania                          0.0262      0.047      0.554      0.580      -0.066       0.119\n",
       "PREVIOUS_AIRPORT_REGION_puerto_rico                          -0.0371      0.127     -0.293      0.769      -0.285       0.211\n",
       "PREVIOUS_AIRPORT_REGION_rhode_island                          0.0669      0.149      0.448      0.654      -0.226       0.360\n",
       "PREVIOUS_AIRPORT_REGION_south_carolina                        0.2042      0.078      2.604      0.009       0.051       0.358\n",
       "PREVIOUS_AIRPORT_REGION_south_dakota                         -0.1181      0.178     -0.662      0.508      -0.468       0.231\n",
       "PREVIOUS_AIRPORT_REGION_tennessee                            -0.0098      0.052     -0.187      0.852      -0.112       0.093\n",
       "PREVIOUS_AIRPORT_REGION_texas                                 0.0426      0.030      1.401      0.161      -0.017       0.102\n",
       "PREVIOUS_AIRPORT_REGION_uthah                                -0.0641      0.068     -0.947      0.344      -0.197       0.069\n",
       "PREVIOUS_AIRPORT_REGION_vermont                              -0.2421      0.177     -1.372      0.170      -0.588       0.104\n",
       "PREVIOUS_AIRPORT_REGION_virgin_islands                        0.3529      0.513      0.688      0.491      -0.652       1.358\n",
       "PREVIOUS_AIRPORT_REGION_virginia                             -0.0120      0.047     -0.255      0.799      -0.104       0.080\n",
       "PREVIOUS_AIRPORT_REGION_washington                           -0.0337      0.054     -0.625      0.532      -0.139       0.072\n",
       "PREVIOUS_AIRPORT_REGION_west_virginia                        -0.0640      0.177     -0.362      0.717      -0.410       0.282\n",
       "PREVIOUS_AIRPORT_REGION_wisconsin                            -0.0529      0.073     -0.722      0.470      -0.196       0.091\n",
       "PREVIOUS_AIRPORT_REGION_wyoming                               0.3074      0.167      1.837      0.066      -0.021       0.635\n",
       "DAY_OF_WEEK                                                   0.0019      0.004      0.467      0.640      -0.006       0.010\n",
       "DEP_TIME_BLK                                                  0.0010      0.001      0.696      0.486      -0.002       0.004\n",
       "DISTANCE_GROUP                                                0.0043      0.003      1.359      0.174      -0.002       0.011\n",
       "PLANE_AGE                                                     0.0010      0.001      0.973      0.331      -0.001       0.003\n",
       "SEGMENT_NUMBER                                               -0.0020      0.004     -0.475      0.635      -0.010       0.006\n",
       "SNOW                                                          0.0095      0.031      0.310      0.756      -0.051       0.070\n",
       "SNWD                                                          0.0042      0.008      0.550      0.582      -0.011       0.019\n",
       "=============================================================================================================================\n",
       "\"\"\""
      ]
     },
     "execution_count": 21,
     "metadata": {},
     "output_type": "execute_result"
    }
   ],
   "source": [
    "x1 = sm.add_constant(xtrain)\n",
    "rf = sm.Logit(y_train, x1).fit()\n",
    "rf.summary()"
   ]
  },
  {
   "cell_type": "code",
   "execution_count": 22,
   "id": "5221083f-b268-4eb6-9adf-0549bf434df0",
   "metadata": {},
   "outputs": [],
   "source": [
    "pvalue = rf.pvalues\n",
    "pval = pd.DataFrame(pvalue)\n",
    "signi = pval[pval[0] < 0.05].index\n",
    "signi = signi[1:]\n",
    "xtrain = xtrain[signi]\n",
    "xtest = xtest[signi]"
   ]
  },
  {
   "cell_type": "code",
   "execution_count": 23,
   "id": "df0750c4-8d5d-4684-bfc9-04ece8d73ea5",
   "metadata": {},
   "outputs": [],
   "source": [
    "lr = LogisticRegression(max_iter=1000)\n",
    "model = lr.fit(xtrain, y_train)\n",
    "y_pred = model.predict(xtest)"
   ]
  },
  {
   "cell_type": "code",
   "execution_count": 24,
   "id": "860d63b9-adc6-4acf-b609-9218a652df81",
   "metadata": {},
   "outputs": [
    {
     "name": "stdout",
     "output_type": "stream",
     "text": [
      "Accuracy 0.8177166666666666\n"
     ]
    }
   ],
   "source": [
    "print('Accuracy', model.score(xtest, y_test))"
   ]
  },
  {
   "cell_type": "code",
   "execution_count": 25,
   "id": "f47de529-5ca7-495d-8064-b6f39a7ea5e4",
   "metadata": {},
   "outputs": [
    {
     "name": "stdout",
     "output_type": "stream",
     "text": [
      "              precision    recall  f1-score   support\n",
      "\n",
      "           0       0.82      1.00      0.90     49063\n",
      "           1       0.00      0.00      0.00     10937\n",
      "\n",
      "    accuracy                           0.82     60000\n",
      "   macro avg       0.41      0.50      0.45     60000\n",
      "weighted avg       0.67      0.82      0.74     60000\n",
      "\n"
     ]
    }
   ],
   "source": [
    "print(classification_report(y_test, y_pred))"
   ]
  },
  {
   "cell_type": "code",
   "execution_count": 26,
   "id": "7f77d314-566d-49ef-bfc2-ce58ab4e876f",
   "metadata": {},
   "outputs": [
    {
     "data": {
      "image/png": "[encoded data removed]",
      "text/plain": [
       "<Figure size 432x288 with 2 Axes>"
      ]
     },
     "metadata": {
      "needs_background": "light"
     },
     "output_type": "display_data"
    }
   ],
   "source": [
    "DisplayConfusionMatrix(y_test, y_pred)"
   ]
  },
  {
   "cell_type": "code",
   "execution_count": 27,
   "id": "69fbbdaa-e0e2-457c-8ad8-e7b2f06e6eab",
   "metadata": {},
   "outputs": [],
   "source": [
    "kn = KNeighborsClassifier()\n",
    "model = kn.fit(xtrain, y_train)\n",
    "y_pred = model.predict(xtest)"
   ]
  },
  {
   "cell_type": "code",
   "execution_count": 28,
   "id": "3d9db32d-1546-4b83-811e-8275a9044fb2",
   "metadata": {},
   "outputs": [
    {
     "name": "stdout",
     "output_type": "stream",
     "text": [
      "Accuracy 0.8095666666666667\n"
     ]
    }
   ],
   "source": [
    "print('Accuracy', model.score(xtest, y_test))"
   ]
  },
  {
   "cell_type": "code",
   "execution_count": 29,
   "id": "15d6a14b-7683-4c3e-9178-7d21efc9a863",
   "metadata": {},
   "outputs": [
    {
     "name": "stdout",
     "output_type": "stream",
     "text": [
      "              precision    recall  f1-score   support\n",
      "\n",
      "           0       0.82      0.99      0.89     49063\n",
      "           1       0.18      0.01      0.02     10937\n",
      "\n",
      "    accuracy                           0.81     60000\n",
      "   macro avg       0.50      0.50      0.46     60000\n",
      "weighted avg       0.70      0.81      0.74     60000\n",
      "\n"
     ]
    }
   ],
   "source": [
    "print(classification_report(y_test, y_pred))"
   ]
  },
  {
   "cell_type": "code",
   "execution_count": 30,
   "id": "dbfc8d6e-b127-4dae-9f6f-be14b96b411c",
   "metadata": {},
   "outputs": [
    {
     "data": {
      "image/png": "[encoded data removed]",
      "text/plain": [
       "<Figure size 432x288 with 2 Axes>"
      ]
     },
     "metadata": {
      "needs_background": "light"
     },
     "output_type": "display_data"
    }
   ],
   "source": [
    "DisplayConfusionMatrix(y_test, y_pred)"
   ]
  },
  {
   "cell_type": "code",
   "execution_count": 31,
   "id": "b6b1b0ec-f6ac-48d4-8444-5aa89e1e6017",
   "metadata": {},
   "outputs": [],
   "source": [
    "dt = DecisionTreeClassifier()\n",
    "model = dt.fit(xtrain, y_train)\n",
    "y_pred = model.predict(xtest)"
   ]
  },
  {
   "cell_type": "code",
   "execution_count": 32,
   "id": "f44ec2d6-25d0-41d2-8d78-280b1be33622",
   "metadata": {},
   "outputs": [
    {
     "name": "stdout",
     "output_type": "stream",
     "text": [
      "Accuracy 0.8176666666666667\n"
     ]
    }
   ],
   "source": [
    "print('Accuracy', model.score(xtest, ytest))"
   ]
  },
  {
   "cell_type": "code",
   "execution_count": 33,
   "id": "2828f165-438d-4e5b-bfb3-a7e9c54da4ec",
   "metadata": {},
   "outputs": [
    {
     "name": "stdout",
     "output_type": "stream",
     "text": [
      "              precision    recall  f1-score   support\n",
      "\n",
      "           0       0.82      1.00      0.90     49063\n",
      "           1       0.00      0.00      0.00     10937\n",
      "\n",
      "    accuracy                           0.82     60000\n",
      "   macro avg       0.41      0.50      0.45     60000\n",
      "weighted avg       0.67      0.82      0.74     60000\n",
      "\n"
     ]
    }
   ],
   "source": [
    "print(classification_report(y_test, y_pred))"
   ]
  },
  {
   "cell_type": "code",
   "execution_count": 34,
   "id": "00f88a1e-c6fc-4c7a-81b0-952cdf2f558e",
   "metadata": {},
   "outputs": [
    {
     "data": {
      "image/png": "[encoded data removed]",
      "text/plain": [
       "<Figure size 432x288 with 2 Axes>"
      ]
     },
     "metadata": {
      "needs_background": "light"
     },
     "output_type": "display_data"
    }
   ],
   "source": [
    "DisplayConfusionMatrix(y_test, y_pred)"
   ]
  },
  {
   "cell_type": "code",
   "execution_count": 35,
   "id": "373dd488-527f-4b88-b4d6-dbe28d0b05de",
   "metadata": {},
   "outputs": [],
   "source": [
    "lgbm = LGBMClassifier()\n",
    "model2 = lgbm.fit(xtrain, y_train)\n",
    "y_pred = model2.predict(xtest)"
   ]
  },
  {
   "cell_type": "code",
   "execution_count": 36,
   "id": "7f3f042a-6c46-4514-aa5f-3721fa9b229e",
   "metadata": {},
   "outputs": [
    {
     "name": "stdout",
     "output_type": "stream",
     "text": [
      "Accuracy 0.8177166666666666\n"
     ]
    }
   ],
   "source": [
    "print('Accuracy', model2.score(xtest, y_test))"
   ]
  },
  {
   "cell_type": "code",
   "execution_count": 37,
   "id": "76fb723b-63b6-42a9-8cd4-92d27ec58178",
   "metadata": {},
   "outputs": [
    {
     "name": "stdout",
     "output_type": "stream",
     "text": [
      "              precision    recall  f1-score   support\n",
      "\n",
      "           0       0.82      1.00      0.90     49063\n",
      "           1       0.00      0.00      0.00     10937\n",
      "\n",
      "    accuracy                           0.82     60000\n",
      "   macro avg       0.41      0.50      0.45     60000\n",
      "weighted avg       0.67      0.82      0.74     60000\n",
      "\n"
     ]
    }
   ],
   "source": [
    "print(classification_report(y_test, y_pred))"
   ]
  },
  {
   "cell_type": "code",
   "execution_count": 38,
   "id": "37173ad2-af3c-44e3-bbe2-a0a54f5f1af2",
   "metadata": {},
   "outputs": [
    {
     "data": {
      "image/png": "[encoded data removed]",
      "text/plain": [
       "<Figure size 432x288 with 2 Axes>"
      ]
     },
     "metadata": {
      "needs_background": "light"
     },
     "output_type": "display_data"
    }
   ],
   "source": [
    "DisplayConfusionMatrix(y_test, y_pred)"
   ]
  },
  {
   "cell_type": "code",
   "execution_count": 39,
   "id": "2a07d22c-d98c-4065-8c8a-05849e2bcf2c",
   "metadata": {
    "tags": []
   },
   "outputs": [
    {
     "name": "stdout",
     "output_type": "stream",
     "text": [
      "Optimization terminated successfully.\n",
      "         Current function value: 0.476577\n",
      "         Iterations 5\n"
     ]
    },
    {
     "data": {
      "text/html": [
       "<table class=\"simpletable\">\n",
       "<caption>Logit Regression Results</caption>\n",
       "<tr>\n",
       "  <th>Dep. Variable:</th>           <td>y</td>        <th>  No. Observations:  </th>  <td>140000</td>  \n",
       "</tr>\n",
       "<tr>\n",
       "  <th>Model:</th>                 <td>Logit</td>      <th>  Df Residuals:      </th>  <td>139989</td>  \n",
       "</tr>\n",
       "<tr>\n",
       "  <th>Method:</th>                 <td>MLE</td>       <th>  Df Model:          </th>  <td>    10</td>  \n",
       "</tr>\n",
       "<tr>\n",
       "  <th>Date:</th>            <td>Wed, 06 Jul 2022</td> <th>  Pseudo R-squ.:     </th> <td>0.0002617</td>\n",
       "</tr>\n",
       "<tr>\n",
       "  <th>Time:</th>                <td>19:45:48</td>     <th>  Log-Likelihood:    </th> <td> -66721.</td> \n",
       "</tr>\n",
       "<tr>\n",
       "  <th>converged:</th>             <td>True</td>       <th>  LL-Null:           </th> <td> -66738.</td> \n",
       "</tr>\n",
       "<tr>\n",
       "  <th>Covariance Type:</th>     <td>nonrobust</td>    <th>  LLR p-value:       </th> <td>0.0001284</td>\n",
       "</tr>\n",
       "</table>\n",
       "<table class=\"simpletable\">\n",
       "<tr>\n",
       "                     <td></td>                       <th>coef</th>     <th>std err</th>      <th>z</th>      <th>P>|z|</th>  <th>[0.025</th>    <th>0.975]</th>  \n",
       "</tr>\n",
       "<tr>\n",
       "  <th>const</th>                                  <td>   -1.5105</td> <td>    0.008</td> <td> -192.189</td> <td> 0.000</td> <td>   -1.526</td> <td>   -1.495</td>\n",
       "</tr>\n",
       "<tr>\n",
       "  <th>CARRIER_NAME_AmericanEagleAirlinesInc</th>  <td>    0.0692</td> <td>    0.037</td> <td>    1.857</td> <td> 0.063</td> <td>   -0.004</td> <td>    0.142</td>\n",
       "</tr>\n",
       "<tr>\n",
       "  <th>CARRIER_NAME_FrontierAirlinesInc</th>       <td>    0.0890</td> <td>    0.055</td> <td>    1.623</td> <td> 0.105</td> <td>   -0.018</td> <td>    0.197</td>\n",
       "</tr>\n",
       "<tr>\n",
       "  <th>CARRIER_NAME_MesaAirlinesInc</th>           <td>    0.0545</td> <td>    0.035</td> <td>    1.580</td> <td> 0.114</td> <td>   -0.013</td> <td>    0.122</td>\n",
       "</tr>\n",
       "<tr>\n",
       "  <th>DEPARTING_AIRPORT_OntarioInternational</th> <td>    1.3189</td> <td>    0.606</td> <td>    2.178</td> <td> 0.029</td> <td>    0.132</td> <td>    2.506</td>\n",
       "</tr>\n",
       "<tr>\n",
       "  <th>PREVIOUS_AIRPORT_REGION_florida</th>        <td>    0.0480</td> <td>    0.026</td> <td>    1.838</td> <td> 0.066</td> <td>   -0.003</td> <td>    0.099</td>\n",
       "</tr>\n",
       "<tr>\n",
       "  <th>PREVIOUS_AIRPORT_REGION_idaho</th>          <td>    0.2142</td> <td>    0.115</td> <td>    1.863</td> <td> 0.062</td> <td>   -0.011</td> <td>    0.440</td>\n",
       "</tr>\n",
       "<tr>\n",
       "  <th>PREVIOUS_AIRPORT_REGION_illinois</th>       <td>    0.0553</td> <td>    0.034</td> <td>    1.641</td> <td> 0.101</td> <td>   -0.011</td> <td>    0.121</td>\n",
       "</tr>\n",
       "<tr>\n",
       "  <th>PREVIOUS_AIRPORT_REGION_indiana</th>        <td>    0.1107</td> <td>    0.059</td> <td>    1.869</td> <td> 0.062</td> <td>   -0.005</td> <td>    0.227</td>\n",
       "</tr>\n",
       "<tr>\n",
       "  <th>PREVIOUS_AIRPORT_REGION_nevada</th>         <td>    0.1431</td> <td>    0.058</td> <td>    2.461</td> <td> 0.014</td> <td>    0.029</td> <td>    0.257</td>\n",
       "</tr>\n",
       "<tr>\n",
       "  <th>PREVIOUS_AIRPORT_REGION_south_carolina</th> <td>    0.1913</td> <td>    0.077</td> <td>    2.477</td> <td> 0.013</td> <td>    0.040</td> <td>    0.343</td>\n",
       "</tr>\n",
       "</table>"
      ],
      "text/plain": [
       "<class 'statsmodels.iolib.summary.Summary'>\n",
       "\"\"\"\n",
       "                           Logit Regression Results                           \n",
       "==============================================================================\n",
       "Dep. Variable:                      y   No. Observations:               140000\n",
       "Model:                          Logit   Df Residuals:                   139989\n",
       "Method:                           MLE   Df Model:                           10\n",
       "Date:                Wed, 06 Jul 2022   Pseudo R-squ.:               0.0002617\n",
       "Time:                        19:45:48   Log-Likelihood:                -66721.\n",
       "converged:                       True   LL-Null:                       -66738.\n",
       "Covariance Type:            nonrobust   LLR p-value:                 0.0001284\n",
       "==========================================================================================================\n",
       "                                             coef    std err          z      P>|z|      [0.025      0.975]\n",
       "----------------------------------------------------------------------------------------------------------\n",
       "const                                     -1.5105      0.008   -192.189      0.000      -1.526      -1.495\n",
       "CARRIER_NAME_AmericanEagleAirlinesInc      0.0692      0.037      1.857      0.063      -0.004       0.142\n",
       "CARRIER_NAME_FrontierAirlinesInc           0.0890      0.055      1.623      0.105      -0.018       0.197\n",
       "CARRIER_NAME_MesaAirlinesInc               0.0545      0.035      1.580      0.114      -0.013       0.122\n",
       "DEPARTING_AIRPORT_OntarioInternational     1.3189      0.606      2.178      0.029       0.132       2.506\n",
       "PREVIOUS_AIRPORT_REGION_florida            0.0480      0.026      1.838      0.066      -0.003       0.099\n",
       "PREVIOUS_AIRPORT_REGION_idaho              0.2142      0.115      1.863      0.062      -0.011       0.440\n",
       "PREVIOUS_AIRPORT_REGION_illinois           0.0553      0.034      1.641      0.101      -0.011       0.121\n",
       "PREVIOUS_AIRPORT_REGION_indiana            0.1107      0.059      1.869      0.062      -0.005       0.227\n",
       "PREVIOUS_AIRPORT_REGION_nevada             0.1431      0.058      2.461      0.014       0.029       0.257\n",
       "PREVIOUS_AIRPORT_REGION_south_carolina     0.1913      0.077      2.477      0.013       0.040       0.343\n",
       "==========================================================================================================\n",
       "\"\"\""
      ]
     },
     "execution_count": 39,
     "metadata": {},
     "output_type": "execute_result"
    }
   ],
   "source": [
    "x1 = sm.add_constant(xtrain)\n",
    "rf = sm.Logit(y_train, x1).fit()\n",
    "rf.summary()"
   ]
  },
  {
   "cell_type": "code",
   "execution_count": 40,
   "id": "f5d193c1-876c-48b7-aedd-f502dc234c68",
   "metadata": {},
   "outputs": [],
   "source": [
    "pvalue = rf.pvalues\n",
    "pval = pd.DataFrame(pvalue)\n",
    "signi = pval[pval[0] < 0.05].index\n",
    "signi = signi[1:]\n",
    "xtrain = xtrain[signi]\n",
    "xtest = xtest[signi]"
   ]
  },
  {
   "cell_type": "code",
   "execution_count": 41,
   "id": "545ca3f5-ea90-4d31-a096-c2a67623ce03",
   "metadata": {},
   "outputs": [],
   "source": [
    "lr = LogisticRegression(max_iter=1000)\n",
    "model = lr.fit(xtrain, y_train)\n",
    "y_pred = model.predict(xtest)"
   ]
  },
  {
   "cell_type": "code",
   "execution_count": 42,
   "id": "3e8dcaf4-e494-4774-9925-f71eee3cebab",
   "metadata": {},
   "outputs": [
    {
     "name": "stdout",
     "output_type": "stream",
     "text": [
      "Accuracy 0.8177166666666666\n"
     ]
    }
   ],
   "source": [
    "print('Accuracy', model.score(xtest, y_test))"
   ]
  },
  {
   "cell_type": "code",
   "execution_count": 43,
   "id": "1a169325-a253-410e-8c98-77d6e9062d82",
   "metadata": {},
   "outputs": [
    {
     "name": "stdout",
     "output_type": "stream",
     "text": [
      "              precision    recall  f1-score   support\n",
      "\n",
      "           0       0.82      1.00      0.90     49063\n",
      "           1       0.00      0.00      0.00     10937\n",
      "\n",
      "    accuracy                           0.82     60000\n",
      "   macro avg       0.41      0.50      0.45     60000\n",
      "weighted avg       0.67      0.82      0.74     60000\n",
      "\n"
     ]
    }
   ],
   "source": [
    "print(classification_report(y_test, y_pred))"
   ]
  },
  {
   "cell_type": "code",
   "execution_count": 44,
   "id": "54b20886-e66e-49d1-ba0d-2963d7d7bf22",
   "metadata": {},
   "outputs": [
    {
     "data": {
      "image/png": "[encoded data removed]",
      "text/plain": [
       "<Figure size 432x288 with 2 Axes>"
      ]
     },
     "metadata": {
      "needs_background": "light"
     },
     "output_type": "display_data"
    }
   ],
   "source": [
    "DisplayConfusionMatrix(y_test, y_pred)"
   ]
  },
  {
   "cell_type": "code",
   "execution_count": 45,
   "id": "0d057e7a-6d81-4503-8242-d10f83753e47",
   "metadata": {},
   "outputs": [],
   "source": [
    "kn = KNeighborsClassifier()\n",
    "model = kn.fit(xtrain, y_train)\n",
    "y_pred = model.predict(xtest)"
   ]
  },
  {
   "cell_type": "code",
   "execution_count": 46,
   "id": "287f1064-dc2c-4e9d-92ca-cc1c411fd86b",
   "metadata": {},
   "outputs": [
    {
     "name": "stdout",
     "output_type": "stream",
     "text": [
      "Accuracy 0.8177166666666666\n"
     ]
    }
   ],
   "source": [
    "print('Accuracy', model.score(xtest, y_test))"
   ]
  },
  {
   "cell_type": "code",
   "execution_count": 47,
   "id": "ee7e219b-98a8-4b2d-ab42-1e14d7481006",
   "metadata": {},
   "outputs": [
    {
     "name": "stdout",
     "output_type": "stream",
     "text": [
      "              precision    recall  f1-score   support\n",
      "\n",
      "           0       0.82      1.00      0.90     49063\n",
      "           1       0.00      0.00      0.00     10937\n",
      "\n",
      "    accuracy                           0.82     60000\n",
      "   macro avg       0.41      0.50      0.45     60000\n",
      "weighted avg       0.67      0.82      0.74     60000\n",
      "\n"
     ]
    }
   ],
   "source": [
    "print(classification_report(y_test, y_pred))"
   ]
  },
  {
   "cell_type": "code",
   "execution_count": 48,
   "id": "2b871a44-55ec-468b-8b8d-e51a523559a4",
   "metadata": {},
   "outputs": [
    {
     "data": {
      "image/png": "[encoded data removed]",
      "text/plain": [
       "<Figure size 432x288 with 2 Axes>"
      ]
     },
     "metadata": {
      "needs_background": "light"
     },
     "output_type": "display_data"
    }
   ],
   "source": [
    "DisplayConfusionMatrix(y_test, y_pred)"
   ]
  },
  {
   "cell_type": "code",
   "execution_count": 49,
   "id": "b1102b81-3df5-4fe6-8c3d-b0095d20ef02",
   "metadata": {},
   "outputs": [],
   "source": [
    "dt = DecisionTreeClassifier()\n",
    "model = dt.fit(xtrain, y_train)\n",
    "y_pred = model.predict(xtest)"
   ]
  },
  {
   "cell_type": "code",
   "execution_count": 50,
   "id": "dbfc7040-9728-48ad-9775-a613a380cfdf",
   "metadata": {},
   "outputs": [
    {
     "name": "stdout",
     "output_type": "stream",
     "text": [
      "Accuracy 0.8177166666666666\n"
     ]
    }
   ],
   "source": [
    "print('Accuracy', model.score(xtest, ytest))"
   ]
  },
  {
   "cell_type": "code",
   "execution_count": 51,
   "id": "d3bfa231-d672-4f9a-bb22-7d83b2080f14",
   "metadata": {},
   "outputs": [
    {
     "name": "stdout",
     "output_type": "stream",
     "text": [
      "              precision    recall  f1-score   support\n",
      "\n",
      "           0       0.82      1.00      0.90     49063\n",
      "           1       0.00      0.00      0.00     10937\n",
      "\n",
      "    accuracy                           0.82     60000\n",
      "   macro avg       0.41      0.50      0.45     60000\n",
      "weighted avg       0.67      0.82      0.74     60000\n",
      "\n"
     ]
    }
   ],
   "source": [
    "print(classification_report(y_test, y_pred))"
   ]
  },
  {
   "cell_type": "code",
   "execution_count": 52,
   "id": "9347af96-c344-4226-bbdf-142b6a223d9e",
   "metadata": {},
   "outputs": [
    {
     "data": {
      "image/png": "[encoded data removed]",
      "text/plain": [
       "<Figure size 432x288 with 2 Axes>"
      ]
     },
     "metadata": {
      "needs_background": "light"
     },
     "output_type": "display_data"
    }
   ],
   "source": [
    "DisplayConfusionMatrix(y_test, y_pred)"
   ]
  },
  {
   "cell_type": "code",
   "execution_count": 53,
   "id": "3a421551-bdd3-4e0a-a10c-4642cea92202",
   "metadata": {},
   "outputs": [],
   "source": [
    "lgbm = LGBMClassifier()\n",
    "model2 = lgbm.fit(xtrain, y_train)\n",
    "y_pred = model2.predict(xtest)"
   ]
  },
  {
   "cell_type": "code",
   "execution_count": 54,
   "id": "1a0db288-4a68-4d47-bb68-20a2685054b9",
   "metadata": {},
   "outputs": [
    {
     "name": "stdout",
     "output_type": "stream",
     "text": [
      "Accuracy 0.8177166666666666\n"
     ]
    }
   ],
   "source": [
    "print('Accuracy', model2.score(xtest, y_test))"
   ]
  },
  {
   "cell_type": "code",
   "execution_count": 55,
   "id": "d66da8be-8f64-476b-85da-5bd2be228855",
   "metadata": {},
   "outputs": [
    {
     "name": "stdout",
     "output_type": "stream",
     "text": [
      "              precision    recall  f1-score   support\n",
      "\n",
      "           0       0.82      1.00      0.90     49063\n",
      "           1       0.00      0.00      0.00     10937\n",
      "\n",
      "    accuracy                           0.82     60000\n",
      "   macro avg       0.41      0.50      0.45     60000\n",
      "weighted avg       0.67      0.82      0.74     60000\n",
      "\n"
     ]
    }
   ],
   "source": [
    "print(classification_report(y_test, y_pred))"
   ]
  },
  {
   "cell_type": "code",
   "execution_count": 56,
   "id": "370a4fe3-8a50-4f7a-949a-0c4a1b188229",
   "metadata": {},
   "outputs": [
    {
     "data": {
      "image/png": "[encoded data removed]",
      "text/plain": [
       "<Figure size 432x288 with 2 Axes>"
      ]
     },
     "metadata": {
      "needs_background": "light"
     },
     "output_type": "display_data"
    }
   ],
   "source": [
    "DisplayConfusionMatrix(y_test, y_pred)"
   ]
  }
 ],
 "metadata": {
  "kernelspec": {
   "display_name": "Python [conda env:.conda-tf] *",
   "language": "python",
   "name": "conda-env-.conda-tf-py"
  },
  "language_info": {
   "codemirror_mode": {
    "name": "ipython",
    "version": 3
   },
   "file_extension": ".py",
   "mimetype": "text/x-python",
   "name": "python",
   "nbconvert_exporter": "python",
   "pygments_lexer": "ipython3",
   "version": "3.7.11"
  }
 },
 "nbformat": 4,
 "nbformat_minor": 5
}
