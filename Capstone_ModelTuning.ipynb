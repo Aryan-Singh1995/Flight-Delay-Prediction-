{
 "cells": [
  {
   "cell_type": "code",
   "execution_count": 1,
   "id": "8b1adc28-cb13-47d5-9e46-6c834ce44035",
   "metadata": {},
   "outputs": [],
   "source": [
    "import numpy as np\n",
    "import pandas as pd\n",
    "import matplotlib.pyplot as plt\n",
    "import re\n",
    "import statsmodels.api as sm\n",
    "from sklearn.naive_bayes import BernoulliNB\n",
    "from lightgbm import LGBMClassifier\n",
    "from xgboost import XGBClassifier\n",
    "from sklearn.metrics import classification_report\n",
    "from sklearn.metrics import confusion_matrix, ConfusionMatrixDisplay\n",
    "from sklearn.model_selection import RandomizedSearchCV, GridSearchCV\n",
    "from sklearn.feature_selection import RFE\n",
    "from sklearn.pipeline import Pipeline\n",
    "import warnings\n",
    "warnings.filterwarnings(\"ignore\")"
   ]
  },
  {
   "cell_type": "code",
   "execution_count": 2,
   "id": "4ee83184-d285-4031-ba31-fdea27a8d491",
   "metadata": {},
   "outputs": [],
   "source": [
    "def DisplayConfusionMatrix(actual, prediction):\n",
    "    cm = confusion_matrix(actual, prediction)\n",
    "    cm_dspl = ConfusionMatrixDisplay(confusion_matrix=cm)\n",
    "    cm_dspl.plot(cmap='YlGnBu')\n",
    "    plt.title('Confusion Matrix')\n",
    "    plt.show()"
   ]
  },
  {
   "cell_type": "code",
   "execution_count": 3,
   "id": "4b1ff2db-f055-4159-be57-cbfa8502abb2",
   "metadata": {},
   "outputs": [
    {
     "data": {
      "text/plain": [
       "((228910, 165), (97828, 165), (228910, 1), (97828, 1))"
      ]
     },
     "execution_count": 3,
     "metadata": {},
     "output_type": "execute_result"
    }
   ],
   "source": [
    "xtrain = pd.read_csv('xtrain.csv')\n",
    "xtest = pd.read_csv('xtest.csv')\n",
    "ytrain = pd.read_csv('ytrain.csv')\n",
    "ytest = pd.read_csv('ytest.csv')\n",
    "xtrain.shape, xtest.shape,  ytrain.shape, ytest.shape"
   ]
  },
  {
   "cell_type": "code",
   "execution_count": 4,
   "id": "fcc0e96a-b505-48b3-a91e-522e26864af6",
   "metadata": {
    "tags": []
   },
   "outputs": [
    {
     "data": {
      "text/plain": [
       "Pipeline(steps=[('rfe_feature_selection',\n",
       "                 RFE(estimator=LGBMClassifier(), n_features_to_select=50)),\n",
       "                ('clf', LGBMClassifier())])"
      ]
     },
     "execution_count": 4,
     "metadata": {},
     "output_type": "execute_result"
    }
   ],
   "source": [
    "f5 = RFE(estimator=LGBMClassifier(), n_features_to_select=50, step=1)\n",
    "pipeline = Pipeline([\n",
    "    ('rfe_feature_selection', f5),\n",
    "    ('clf', LGBMClassifier())\n",
    "    ])\n",
    "pipeline.fit(xtrain, ytrain)"
   ]
  },
  {
   "cell_type": "code",
   "execution_count": 5,
   "id": "42ff8ef7-cf35-41ed-b66a-22df54a89812",
   "metadata": {},
   "outputs": [],
   "source": [
    "support = pipeline.named_steps['rfe_feature_selection'].support_"
   ]
  },
  {
   "cell_type": "code",
   "execution_count": 6,
   "id": "d24cfe9a-059f-46cf-932c-c7740eb3d2d6",
   "metadata": {},
   "outputs": [],
   "source": [
    "feature_names = np.array(xtrain.columns) # transformed list to array\n",
    "xtrain = xtrain[feature_names[support]]\n",
    "xtest = xtest[feature_names[support]]"
   ]
  },
  {
   "cell_type": "code",
   "execution_count": 7,
   "id": "4cdc2665-6473-40a6-9e8b-752d3000613f",
   "metadata": {},
   "outputs": [
    {
     "data": {
      "text/plain": [
       "((228910, 50), (97828, 50), (228910, 1), (97828, 1))"
      ]
     },
     "execution_count": 7,
     "metadata": {},
     "output_type": "execute_result"
    }
   ],
   "source": [
    "xtrain.shape, xtest.shape, ytrain.shape, ytest.shape"
   ]
  },
  {
   "cell_type": "code",
   "execution_count": 8,
   "id": "7141c48f-4626-494e-b11f-ec6df3dfa2dd",
   "metadata": {},
   "outputs": [],
   "source": [
    "xtrain = xtrain.rename(columns=lambda x: re.sub('[^A-Za-z0-9_]+', '', x))\n",
    "xtest = xtest.rename(columns=lambda x: re.sub('[^A-Za-z0-9_]+', '', x))\n",
    "y_train = np.array(ytrain.DEP_DEL15)\n",
    "y_test = np.array(ytest.DEP_DEL15)"
   ]
  },
  {
   "cell_type": "code",
   "execution_count": 9,
   "id": "2e347822-980c-4dd5-bdc4-d0d0f82b9a53",
   "metadata": {},
   "outputs": [],
   "source": [
    "nb = BernoulliNB()\n",
    "nbmodel = nb.fit(xtrain, y_train)\n",
    "lgbm = LGBMClassifier()\n",
    "lgbmodel = lgbm.fit(xtrain, y_train)\n",
    "xgc = XGBClassifier()\n",
    "xgcmodel = xgc.fit(xtrain, y_train)"
   ]
  },
  {
   "cell_type": "code",
   "execution_count": 10,
   "id": "85f84bad-639a-4bec-b1f5-13d9af04a322",
   "metadata": {},
   "outputs": [],
   "source": [
    "param_grid = {'boosting_type': ['gbdt', 'dart', 'goss', 'rf'],\n",
    "              'learning_rate': list(np.arange(0.1, 1.1, 0.1)),\n",
    "              'n_estimators': list(np.arange(50, 251)),\n",
    "              'random_state': list(np.arange(0, 101)),\n",
    "              'reg_alpha': list(np.arange(0.1, 1.1, 0.1)),\n",
    "              'reg_lambda': list(np.arange(0.1, 1.1, 0.1))}"
   ]
  },
  {
   "cell_type": "code",
   "execution_count": 11,
   "id": "8e7347d2-f984-46ff-a5e7-b391ed53645a",
   "metadata": {},
   "outputs": [
    {
     "data": {
      "text/plain": [
       "{'reg_lambda': 0.4,\n",
       " 'reg_alpha': 0.9,\n",
       " 'random_state': 93,\n",
       " 'n_estimators': 166,\n",
       " 'learning_rate': 0.6,\n",
       " 'boosting_type': 'dart'}"
      ]
     },
     "execution_count": 11,
     "metadata": {},
     "output_type": "execute_result"
    }
   ],
   "source": [
    "cv = RandomizedSearchCV(estimator=lgbmodel, param_distributions=param_grid,\n",
    "                        random_state=42)\n",
    "cv.fit(xtrain, y_train)\n",
    "bp = cv.best_params_\n",
    "bp"
   ]
  },
  {
   "cell_type": "code",
   "execution_count": 12,
   "id": "35b4406b-b8ad-4686-86d2-77afed90e282",
   "metadata": {},
   "outputs": [
    {
     "name": "stdout",
     "output_type": "stream",
     "text": [
      "Training accuracy 0.8864\n",
      "Testing accuracy 0.8800\n",
      "              precision    recall  f1-score   support\n",
      "\n",
      "           0       0.81      0.99      0.89     48914\n",
      "           1       0.98      0.77      0.87     48914\n",
      "\n",
      "    accuracy                           0.88     97828\n",
      "   macro avg       0.90      0.88      0.88     97828\n",
      "weighted avg       0.90      0.88      0.88     97828\n",
      "\n"
     ]
    },
    {
     "data": {
      "image/png": "[encoded data removed]",
      "text/plain": [
       "<Figure size 432x288 with 2 Axes>"
      ]
     },
     "metadata": {
      "needs_background": "light"
     },
     "output_type": "display_data"
    }
   ],
   "source": [
    "lgbm = LGBMClassifier(boosting_type=bp['boosting_type'],\n",
    "                      learning_rate=bp['learning_rate'],\n",
    "                      n_estimators=bp['n_estimators'],\n",
    "                      random_state=bp['random_state'],\n",
    "                      reg_alpha=bp['reg_alpha'],\n",
    "                      reg_lambda=bp['reg_lambda'])\n",
    "lgbmodel = lgbm.fit(xtrain, y_train)\n",
    "y_pred = lgbmodel.predict(xtest)\n",
    "print('Training accuracy {:.4f}'.format(lgbmodel.score(xtrain, y_train)))\n",
    "print('Testing accuracy {:.4f}'.format(lgbmodel.score(xtest, y_test)))\n",
    "print(classification_report(y_test, y_pred))\n",
    "DisplayConfusionMatrix(y_test, y_pred)"
   ]
  },
  {
   "cell_type": "code",
   "execution_count": 13,
   "id": "e8d57fee-d090-4066-91ae-4b72e4d2ee3d",
   "metadata": {},
   "outputs": [],
   "source": [
    "param_grid = {'alpha': list(np.arange(0.01, 1.01, 0.01)),\n",
    "              'fit_prior': [True, False]}"
   ]
  },
  {
   "cell_type": "code",
   "execution_count": 14,
   "id": "eb7d1307-e7f8-4fd6-ab34-71b343dd5cfe",
   "metadata": {},
   "outputs": [
    {
     "data": {
      "text/plain": [
       "{'fit_prior': False, 'alpha': 0.48000000000000004}"
      ]
     },
     "execution_count": 14,
     "metadata": {},
     "output_type": "execute_result"
    }
   ],
   "source": [
    "cv = RandomizedSearchCV(estimator=nbmodel, param_distributions=param_grid,\n",
    "                        n_jobs=-1, random_state=42)\n",
    "cv.fit(xtrain, y_train)\n",
    "bp = cv.best_params_\n",
    "bp"
   ]
  },
  {
   "cell_type": "code",
   "execution_count": 15,
   "id": "9851d786-d474-4026-afe4-01379613be90",
   "metadata": {},
   "outputs": [
    {
     "name": "stdout",
     "output_type": "stream",
     "text": [
      "Training accuracy 0.8081\n",
      "Testing accuracy 0.8072\n",
      "              precision    recall  f1-score   support\n",
      "\n",
      "           0       0.78      0.86      0.82     48914\n",
      "           1       0.84      0.75      0.80     48914\n",
      "\n",
      "    accuracy                           0.81     97828\n",
      "   macro avg       0.81      0.81      0.81     97828\n",
      "weighted avg       0.81      0.81      0.81     97828\n",
      "\n"
     ]
    },
    {
     "data": {
      "image/png": "[encoded data removed]",
      "text/plain": [
       "<Figure size 432x288 with 2 Axes>"
      ]
     },
     "metadata": {
      "needs_background": "light"
     },
     "output_type": "display_data"
    }
   ],
   "source": [
    "nb = BernoulliNB(alpha=bp['alpha'], fit_prior=bp['fit_prior'])\n",
    "nbmodel = nb.fit(xtrain, y_train)\n",
    "y_pred = nbmodel.predict(xtest)\n",
    "print('Training accuracy {:.4f}'.format(nbmodel.score(xtrain, y_train)))\n",
    "print('Testing accuracy {:.4f}'.format(nbmodel.score(xtest, y_test)))\n",
    "print(classification_report(y_test, y_pred))\n",
    "DisplayConfusionMatrix(y_test, y_pred)"
   ]
  },
  {
   "cell_type": "code",
   "execution_count": 16,
   "id": "f7b235e3-7d71-4b2e-9971-03c45a24f71f",
   "metadata": {},
   "outputs": [],
   "source": [
    "param_grid = {'booster': ['gbtree', 'gblinear', 'dart'],\n",
    "              'learning_rate': list(np.arange(0.1, 1.1, 0.1)),\n",
    "              'max_depth': [0],\n",
    "              'sampling_method': ['uniform', 'gradient_based'],\n",
    "              'reg_alpha': list(np.arange(0.1, 1.1, 0.1)),\n",
    "              'reg_lambda': list(np.arange(0.1, 1.1, 0.1))}"
   ]
  },
  {
   "cell_type": "code",
   "execution_count": 17,
   "id": "d9a5b6b9-be56-465f-8905-2495d9f72db8",
   "metadata": {},
   "outputs": [
    {
     "name": "stdout",
     "output_type": "stream",
     "text": [
      "[09:54:14] WARNING: C:/Users/Administrator/workspace/xgboost-win64_release_1.6.0/src/learner.cc:627: \n",
      "Parameters: { \"colsample_bylevel\", \"colsample_bynode\", \"colsample_bytree\", \"gamma\", \"grow_policy\", \"interaction_constraints\", \"max_bin\", \"max_cat_to_onehot\", \"max_delta_step\", \"max_depth\", \"max_leaves\", \"min_child_weight\", \"monotone_constraints\", \"num_parallel_tree\", \"predictor\", \"sampling_method\", \"subsample\", \"tree_method\" } might not be used.\n",
      "\n",
      "  This could be a false alarm, with some parameters getting used by language bindings but\n",
      "  then being mistakenly passed down to XGBoost core, or some parameter actually being used\n",
      "  but getting flagged wrongly here. Please open an issue if you find any such cases.\n",
      "\n",
      "\n"
     ]
    },
    {
     "data": {
      "text/plain": [
       "{'sampling_method': 'gradient_based',\n",
       " 'reg_lambda': 0.30000000000000004,\n",
       " 'reg_alpha': 0.1,\n",
       " 'max_depth': 0,\n",
       " 'learning_rate': 0.8,\n",
       " 'booster': 'gblinear'}"
      ]
     },
     "execution_count": 17,
     "metadata": {},
     "output_type": "execute_result"
    }
   ],
   "source": [
    "cv = RandomizedSearchCV(estimator=xgcmodel, param_distributions=param_grid,\n",
    "                        n_jobs=-1)\n",
    "cv.fit(xtrain, y_train)\n",
    "bp = cv.best_params_\n",
    "bp"
   ]
  },
  {
   "cell_type": "code",
   "execution_count": 18,
   "id": "7bab937b-b4d3-490f-baf1-2eff2e5bcea4",
   "metadata": {},
   "outputs": [
    {
     "name": "stdout",
     "output_type": "stream",
     "text": [
      "[09:54:18] WARNING: C:/Users/Administrator/workspace/xgboost-win64_release_1.6.0/src/learner.cc:627: \n",
      "Parameters: { \"max_depth\", \"sampling_method\" } might not be used.\n",
      "\n",
      "  This could be a false alarm, with some parameters getting used by language bindings but\n",
      "  then being mistakenly passed down to XGBoost core, or some parameter actually being used\n",
      "  but getting flagged wrongly here. Please open an issue if you find any such cases.\n",
      "\n",
      "\n",
      "Training accuracy 0.5056\n",
      "Testing accuracy 0.4918\n",
      "              precision    recall  f1-score   support\n",
      "\n",
      "           0       0.49      0.48      0.49     48914\n",
      "           1       0.49      0.50      0.50     48914\n",
      "\n",
      "    accuracy                           0.49     97828\n",
      "   macro avg       0.49      0.49      0.49     97828\n",
      "weighted avg       0.49      0.49      0.49     97828\n",
      "\n"
     ]
    },
    {
     "data": {
      "image/png": "[encoded data removed]",
      "text/plain": [
       "<Figure size 432x288 with 2 Axes>"
      ]
     },
     "metadata": {
      "needs_background": "light"
     },
     "output_type": "display_data"
    }
   ],
   "source": [
    "xgc = XGBClassifier(booster=bp['booster'], learning_rate=bp['learning_rate'],\n",
    "                    max_depth=0, sampling_method=bp['sampling_method'],\n",
    "                    reg_alpha=bp['reg_alpha'], reg_lambda=bp['reg_lambda'])\n",
    "xgcmodel = xgc.fit(xtrain, y_train)\n",
    "y_pred = xgcmodel.predict(xtest)\n",
    "print('Training accuracy {:.4f}'.format(xgcmodel.score(xtrain, y_train)))\n",
    "print('Testing accuracy {:.4f}'.format(xgcmodel.score(xtest, y_test)))\n",
    "print(classification_report(y_test, y_pred))\n",
    "DisplayConfusionMatrix(y_test, y_pred)"
   ]
  },
  {
   "cell_type": "code",
   "execution_count": 25,
   "id": "59339921-12ff-41a0-88b0-a078ca0187ab",
   "metadata": {},
   "outputs": [],
   "source": [
    "param_grid = {'boosting_type': ['gbdt', 'dart', 'goss', 'rf'],\n",
    "              'learning_rate': list(np.arange(0.1, 1.1, 0.1)),\n",
    "              'reg_alpha': list(np.arange(0.1, 1.1, 0.1)),\n",
    "              'reg_lambda': list(np.arange(0.1, 1.1, 0.1))}"
   ]
  },
  {
   "cell_type": "code",
   "execution_count": null,
   "id": "4f588db9-30fb-41ed-b77e-1b5e44ff2575",
   "metadata": {},
   "outputs": [],
   "source": [
    "cv = GridSearchCV(estimator=lgbmodel, param_grid=param_grid, n_jobs=-1)\n",
    "cv.fit(xtrain, y_train)\n",
    "bp = cv.best_params_\n",
    "bp"
   ]
  },
  {
   "cell_type": "code",
   "execution_count": null,
   "id": "50c709ae-9fb7-44cc-a1ad-46a35e43aeb4",
   "metadata": {},
   "outputs": [],
   "source": [
    "nb = BernoulliNB()\n",
    "nbmodel = nb.fit(xtrain, y_train)\n",
    "lgbm = LGBMClassifier()\n",
    "lgbmodel = lgbm.fit(xtrain, y_train)\n",
    "xgc = XGBClassifier()\n",
    "xgcmodel = xgc.fit(xtrain, y_train)"
   ]
  },
  {
   "cell_type": "code",
   "execution_count": null,
   "id": "20b1209c-c68e-447f-b670-4d97bb7ad06a",
   "metadata": {},
   "outputs": [],
   "source": [
    "lgbm = LGBMClassifier(boosting_type=bp['boosting_type'],\n",
    "                      learning_rate=bp['learning_rate'],\n",
    "                      reg_alpha=bp['reg_alpha'],\n",
    "                      reg_lambda=bp['reg_lambda'])\n",
    "lgbmodel = lgbm.fit(xtrain, y_train)\n",
    "y_pred = lgbmodel.predict(xtest)\n",
    "print('Training accuracy {:.4f}'.format(lgbmodel.score(xtrain, y_train)))\n",
    "print('Testing accuracy {:.4f}'.format(lgbmodel.score(xtest, y_test)))\n",
    "print(classification_report(y_test, y_pred))\n",
    "DisplayConfusionMatrix(y_test, y_pred)"
   ]
  },
  {
   "cell_type": "code",
   "execution_count": null,
   "id": "6ae256f4-f126-41b0-b92a-7482a3fb0f0a",
   "metadata": {},
   "outputs": [],
   "source": [
    "param_grid = {'alpha': list(np.arange(0, 1.01, 0.01)),\n",
    "              'fit_prior': [True, False]}"
   ]
  },
  {
   "cell_type": "code",
   "execution_count": null,
   "id": "52c08148-70b3-4716-a96d-77d49d46f4de",
   "metadata": {},
   "outputs": [],
   "source": [
    "cv = GridSearchCV(estimator=nbmodel, param_grid=param_grid,\n",
    "                  n_jobs=-1)\n",
    "cv.fit(xtrain, y_train)\n",
    "bp = cv.best_params_\n",
    "bp"
   ]
  },
  {
   "cell_type": "code",
   "execution_count": null,
   "id": "a80acc69-ac86-4bea-b329-a5ce426f5bfa",
   "metadata": {},
   "outputs": [],
   "source": [
    "nb = BernoulliNB(alpha=bp['alpha'], fit_prior=bp['fit_prior'])\n",
    "nbmodel = nb.fit(xtrain, y_train)\n",
    "y_pred = nbmodel.predict(xtest)\n",
    "print('Training accuracy {:.4f}'.format(nbmodel.score(xtrain, y_train)))\n",
    "print('Testing accuracy {:.4f}'.format(nbmodel.score(xtest, y_test)))\n",
    "print(classification_report(y_test, y_pred))\n",
    "DisplayConfusionMatrix(y_test, y_pred)"
   ]
  },
  {
   "cell_type": "code",
   "execution_count": null,
   "id": "3f394b99-880b-438c-93a7-9498ab802f5b",
   "metadata": {},
   "outputs": [],
   "source": [
    "param_grid = {'booster': ['gbtree', 'gblinear', 'dart'],\n",
    "              'learning_rate': list(np.arange(0.1, 1.1, 0.1)),\n",
    "              'sampling_method': ['uniform', 'gradient_based'],\n",
    "              'reg_alpha': list(np.arange(0.1, 1.1, 0.1)),\n",
    "              'reg_lambda': list(np.arange(0.1, 1.1, 0.1))}"
   ]
  },
  {
   "cell_type": "code",
   "execution_count": null,
   "id": "4b0002cb-8b7e-4db6-bc64-c2f55e350b4a",
   "metadata": {},
   "outputs": [],
   "source": [
    "cv = GridSearchCV(estimator=xgcmodel, param_grid=param_grid,\n",
    "                  n_jobs=-1)\n",
    "cv.fit(xtrain, y_train)\n",
    "bp = cv.best_params_\n",
    "bp"
   ]
  },
  {
   "cell_type": "code",
   "execution_count": null,
   "id": "9e2b72ae-2d95-427e-9f25-b9eceefa2f55",
   "metadata": {},
   "outputs": [],
   "source": [
    "xgc = XGBClassifier(booster=bp['booster'], learning_rate=bp['learning_rate'],\n",
    "                    max_depth=0, sampling_method=bp['sampling_method'],\n",
    "                    reg_alpha=bp['reg_alpha'], reg_lambda=bp['reg_lambda'])\n",
    "xgcmodel = xgc.fit(xtrain, y_train)\n",
    "y_pred = xgcmodel.predict(xtest)\n",
    "print('Training accuracy {:.4f}'.format(xgcmodel.score(xtrain, y_train)))\n",
    "print('Testing accuracy {:.4f}'.format(xgcmodel.score(xtest, y_test)))\n",
    "print(classification_report(y_test, y_pred))\n",
    "DisplayConfusionMatrix(y_test, y_pred)"
   ]
  }
 ],
 "metadata": {
  "kernelspec": {
   "display_name": "Python [conda env:.conda-tf] *",
   "language": "python",
   "name": "conda-env-.conda-tf-py"
  },
  "language_info": {
   "codemirror_mode": {
    "name": "ipython",
    "version": 3
   },
   "file_extension": ".py",
   "mimetype": "text/x-python",
   "name": "python",
   "nbconvert_exporter": "python",
   "pygments_lexer": "ipython3",
   "version": "3.7.11"
  }
 },
 "nbformat": 4,
 "nbformat_minor": 5
}
